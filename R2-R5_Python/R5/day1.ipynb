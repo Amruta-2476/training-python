{
 "cells": [
  {
   "cell_type": "code",
   "execution_count": 1,
   "metadata": {},
   "outputs": [
    {
     "name": "stdout",
     "output_type": "stream",
     "text": [
      "hello world\n"
     ]
    }
   ],
   "source": [
    "print(\"hello world\")"
   ]
  },
  {
   "cell_type": "code",
   "execution_count": 3,
   "metadata": {},
   "outputs": [
    {
     "name": "stdout",
     "output_type": "stream",
     "text": [
      "10.4\n",
      "<class 'float'>\n",
      "10\n",
      "10.0\n",
      "<class 'str'>\n",
      "80.0\n",
      "<class 'complex'>\n"
     ]
    }
   ],
   "source": [
    "# type conversion\n",
    "age = 10.4\n",
    "print(age)\n",
    "print(type(age))\n",
    "print(int(age))    # type conversion to int\n",
    "\n",
    "\n",
    "intAge = 10\n",
    "c = float(intAge)    #10.0\n",
    "d = str(intAge)    #\n",
    "print(c)\n",
    "print(type(d))\n",
    "\n",
    "new = int(input(\"Enter a number: \"))\n",
    "newFloat = float(new)\n",
    "print(newFloat)\n",
    "\n",
    "print(type(2+5j))   #<class 'complex'>"
   ]
  },
  {
   "cell_type": "code",
   "execution_count": 4,
   "metadata": {},
   "outputs": [
    {
     "name": "stdout",
     "output_type": "stream",
     "text": [
      "1743033115824\n"
     ]
    }
   ],
   "source": [
    "# check memory location, address of the variable\n",
    "print(id(age))      # id() func"
   ]
  },
  {
   "cell_type": "code",
   "execution_count": 15,
   "metadata": {},
   "outputs": [
    {
     "name": "stdout",
     "output_type": "stream",
     "text": [
      "140728315101144\n",
      "1743047441008\n",
      "140728315101144\n"
     ]
    }
   ],
   "source": [
    "math = 50     # All variables refer to the same memory location where 50 is stored.\n",
    "hindi = 50.0\n",
    "eng = 50\n",
    "print(id(math))\n",
    "print(id(hindi))\n",
    "print(id(eng))"
   ]
  },
  {
   "cell_type": "code",
   "execution_count": 24,
   "metadata": {},
   "outputs": [
    {
     "name": "stdout",
     "output_type": "stream",
     "text": [
      "2 3\n",
      "23\n",
      "22\n"
     ]
    }
   ],
   "source": [
    "print('2','3')\n",
    "print('2'+'3')\n",
    "print('2'*2)"
   ]
  },
  {
   "cell_type": "code",
   "execution_count": 25,
   "metadata": {},
   "outputs": [
    {
     "name": "stdout",
     "output_type": "stream",
     "text": [
      "(5+7j)\n"
     ]
    }
   ],
   "source": [
    "# add comples nums\n",
    "a = 2+3j\n",
    "b = 3+4j\n",
    "print(a+b)"
   ]
  },
  {
   "cell_type": "markdown",
   "metadata": {},
   "source": [
    "//"
   ]
  },
  {
   "cell_type": "markdown",
   "metadata": {},
   "source": [
    "TYPE CASTING & CONVERSION"
   ]
  },
  {
   "cell_type": "code",
   "execution_count": 32,
   "metadata": {},
   "outputs": [
    {
     "name": "stdout",
     "output_type": "stream",
     "text": [
      "3\n",
      "1\n",
      "0\n",
      "4\n"
     ]
    }
   ],
   "source": [
    "# int() to convert \n",
    "print(int(3.14))   # 3\n",
    "# print(int(3 + 5j))  # TypeError: can't convert complex to int\n",
    "print(int(True))  # 1\n",
    "print(int(False))  # 0\n",
    "print(int(\"4\"))  # 4\n",
    "# print(int(\"4.5\")) # ValueError\n",
    "# print(int(\"prashant\"))  # ValueError"
   ]
  },
  {
   "cell_type": "code",
   "execution_count": 39,
   "metadata": {},
   "outputs": [
    {
     "name": "stdout",
     "output_type": "stream",
     "text": [
      "3.0\n",
      "1.0\n",
      "0.0\n",
      "4.0\n",
      "4.5\n"
     ]
    }
   ],
   "source": [
    "# float() to convert \n",
    "print(float(3))  # 3.0\n",
    "# print(float(3 + 5j))  # TypeError: can't convert complex to float\n",
    "print(float(True))  # 1.0\n",
    "print(float(False))  # 0.0\n",
    "print(float(\"4\"))   # 4.0\n",
    "print(float(\"4.5\"))  # 4.5\n",
    "# print(float(\"amruta\"))  # ValueError"
   ]
  },
  {
   "cell_type": "code",
   "execution_count": null,
   "metadata": {},
   "outputs": [],
   "source": [
    "# complex() to convert\n",
    "print(complex(3))  # (3+0j)\n",
    "print(complex(3.0))  # (3+0j)\n",
    "print(complex(True))  # (1+0j)\n",
    "print(complex(False))  # 0j\n",
    "print(complex(\"4\"))  # (4+0j)\n",
    "print(complex(\"4.5\"))  # (4.5+0j)\n",
    "print(complex(\"prashant\"))  # ValueError"
   ]
  },
  {
   "cell_type": "code",
   "execution_count": 43,
   "metadata": {},
   "outputs": [
    {
     "name": "stdout",
     "output_type": "stream",
     "text": [
      "False\n",
      "True\n",
      "True\n",
      "False\n",
      "True\n",
      "True\n",
      "False\n",
      "True\n",
      "True\n",
      "False\n"
     ]
    }
   ],
   "source": [
    "# bool() to convert\n",
    "print(bool(0)) # False\n",
    "print(bool(15)) # True\n",
    "print(bool(-15)) # True\n",
    "print(bool(0.0)) # False\n",
    "print(bool(1.0)) # True\n",
    "print(bool(3.14)) # True\n",
    "\n",
    "print(bool(0+0j)) # False\n",
    "print(bool(3+2j)) # True\n",
    "print(bool(-1)) # True\n",
    "print(bool(\"\")) # False\n",
    "print(bool(\"amruta\")) # True\n",
    "\n",
    "print(bool(False))\n",
    "print(bool(True))"
   ]
  }
 ],
 "metadata": {
  "kernelspec": {
   "display_name": "base",
   "language": "python",
   "name": "python3"
  },
  "language_info": {
   "codemirror_mode": {
    "name": "ipython",
    "version": 3
   },
   "file_extension": ".py",
   "mimetype": "text/x-python",
   "name": "python",
   "nbconvert_exporter": "python",
   "pygments_lexer": "ipython3",
   "version": "3.12.4"
  }
 },
 "nbformat": 4,
 "nbformat_minor": 2
}
