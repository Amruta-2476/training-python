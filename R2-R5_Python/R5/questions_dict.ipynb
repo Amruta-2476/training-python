{
 "cells": [
  {
   "cell_type": "code",
   "execution_count": 10,
   "metadata": {},
   "outputs": [
    {
     "name": "stdout",
     "output_type": "stream",
     "text": [
      "<class 'dict'>\n",
      "{'name': 'Alice'}\n",
      "{'name': 'Alice', 'rollNO': 15}\n"
     ]
    }
   ],
   "source": [
    "# remove key-value pairs from a dictionary\n",
    "str = eval(input())\n",
    "print(type(str))    # {'name': 'Alice', 'age': 30}    class dict\n",
    "str.pop('age')\n",
    "print(str)\n",
    "\n",
    "\n",
    "str['rollNO'] = 15\n",
    "print(str)"
   ]
  },
  {
   "cell_type": "code",
   "execution_count": 12,
   "metadata": {},
   "outputs": [
    {
     "name": "stdout",
     "output_type": "stream",
     "text": [
      "<class 'dict'>\n",
      "yes\n",
      "30\n"
     ]
    }
   ],
   "source": [
    "# check if key exsts\n",
    "# remove key-value pairs from a dictionary\n",
    "str = eval(input())\n",
    "print(type(str))    # {'name': 'Alice', 'age': 30}    class dict\n",
    "if 'age' in str.keys():\n",
    "    print(\"yes\")\n",
    "\n",
    "\n",
    "# use get() method\n",
    "print(str.get('age'))"
   ]
  },
  {
   "cell_type": "code",
   "execution_count": 16,
   "metadata": {},
   "outputs": [
    {
     "name": "stdout",
     "output_type": "stream",
     "text": [
      "('name', 'Alice')\n",
      "('age', 30)\n"
     ]
    }
   ],
   "source": [
    "# iterate over keys and values\n",
    "for i in str.items():\n",
    "    print(i)"
   ]
  },
  {
   "cell_type": "code",
   "execution_count": 19,
   "metadata": {},
   "outputs": [
    {
     "name": "stdout",
     "output_type": "stream",
     "text": [
      "{1: 2, 3: 4, 9: 8, 7: 6}\n"
     ]
    }
   ],
   "source": [
    "# merge 2 dictionaries     ---- try different way ------\n",
    "dict1 = {1:2, 3:4}\n",
    "dict2 = {9:8, 7:6}\n",
    "dict1.update(dict2)\n",
    "print(dict1)"
   ]
  },
  {
   "cell_type": "code",
   "execution_count": null,
   "metadata": {},
   "outputs": [
    {
     "name": "stdout",
     "output_type": "stream",
     "text": [
      "[1, 2, 3, 1, 1, 2, 4, 5]\n",
      "{1: 3, 2: 2, 3: 1, 4: 1, 5: 1}\n"
     ]
    }
   ],
   "source": [
    "# count frequency of elements in a list using dictionary \n",
    "li = eval(input())\n",
    "print(li)\n",
    "\n",
    "myDict = {}\n",
    "for i in li:\n",
    "    myDict[i] = (li.count(i))\n",
    "print(myDict)\n",
    "\n",
    "# [1,2,3,1,1,2,4,5]"
   ]
  },
  {
   "cell_type": "code",
   "execution_count": 28,
   "metadata": {},
   "outputs": [
    {
     "name": "stdout",
     "output_type": "stream",
     "text": [
      "('name', 'Alice')\n",
      "('age', 30)\n",
      "{'Alice': 'name', 30: 'age'}\n"
     ]
    }
   ],
   "source": [
    "# reverse a  dictionary  ...... keys will be values, values will be keys\n",
    "myDict = eval(input())    # {\"name\":\"Alice\", \"age\":30}\n",
    "rev = {}\n",
    "\n",
    "for i in myDict.items():\n",
    "     print(i)\n",
    "     rev[i[1]] = i[0]\n",
    "print(rev)"
   ]
  },
  {
   "cell_type": "code",
   "execution_count": 52,
   "metadata": {},
   "outputs": [
    {
     "name": "stdout",
     "output_type": "stream",
     "text": [
      "{3: 'c', 4: 'x'}\n"
     ]
    }
   ],
   "source": [
    "#11 find common key-value pairs in 2 dictionaries\n",
    "dict1 = {1:'a', 2:'b', 3:'c', 4:'x'}\n",
    "dict2 = {3:'c', 4:'x'}\n",
    "dict3= {}\n",
    "for i in dict1.items():\n",
    "    if i in dict2.items():\n",
    "        dict3[i[0]] = i[1]\n",
    "print(dict3)"
   ]
  },
  {
   "cell_type": "code",
   "execution_count": null,
   "metadata": {},
   "outputs": [],
   "source": [
    "# 15, 16, 17  ........chck image"
   ]
  },
  {
   "cell_type": "code",
   "execution_count": 62,
   "metadata": {},
   "outputs": [
    {
     "name": "stdout",
     "output_type": "stream",
     "text": [
      "{20, 'amruta', 40, 10, 'pawar', 30}\n",
      "{'amruta'}\n",
      "{40, 10, 20, 30}\n",
      "None\n",
      "set()\n"
     ]
    }
   ],
   "source": [
    "# set is unordered, doesnt allow duplicates\n",
    "mySet = {10,20,30,40,'amruta'}\n",
    "yourSet = {'amruta', 'pawar'}\n",
    "\n",
    "newSet = mySet.union(yourSet)\n",
    "print(newSet)\n",
    "\n",
    "print(mySet.intersection(yourSet))\n",
    "\n",
    "# difference() will return the element in mySet but not in yourSet\n",
    "print(mySet.difference(yourSet))\n",
    "\n",
    "# clear() used to clear data\n",
    "print(mySet.clear())\n",
    "print(mySet)"
   ]
  },
  {
   "cell_type": "markdown",
   "metadata": {},
   "source": [
    "list                        vs          tuple\n",
    "\n",
    ":[]                                     :()not mandatory\n",
    ":mutable                                :immutable\n",
    ":if requirements are not fixed          :if requirements are fixed\n",
    ":we cant take list objects as key       :we can take \n",
    "        for dictionary     "
   ]
  },
  {
   "cell_type": "markdown",
   "metadata": {},
   "source": [
    "why does execution starteith main() function ?<br>\n",
    ">very first memory is given to main() function<br>\n",
    "<br>\n",
    "questions on public static void main"
   ]
  },
  {
   "cell_type": "markdown",
   "metadata": {},
   "source": [
    "ARGUMENTS IN FUNCTION:<br>\n",
    "1. positional<br>\n",
    "2. keyword<br>\n",
    "3. default<br>\n",
    "4. variable length/ variable no.of argument<br>\n",
    "5. unknown"
   ]
  },
  {
   "cell_type": "code",
   "execution_count": 63,
   "metadata": {},
   "outputs": [
    {
     "name": "stdout",
     "output_type": "stream",
     "text": [
      "1st name= amruta\n",
      "2nd name= pawar\n"
     ]
    }
   ],
   "source": [
    "# positional\n",
    "def info(fname, lname):\n",
    "    print('1st name=',fname)\n",
    "    print('2nd name=',lname)\n",
    "info('amruta', 'pawar')"
   ]
  },
  {
   "cell_type": "code",
   "execution_count": 64,
   "metadata": {},
   "outputs": [
    {
     "name": "stdout",
     "output_type": "stream",
     "text": [
      "5\n"
     ]
    }
   ],
   "source": [
    "def add(num1, num2):\n",
    "    return num1+num2\n",
    "result = add(2,3)\n",
    "print(result)"
   ]
  },
  {
   "cell_type": "code",
   "execution_count": 65,
   "metadata": {},
   "outputs": [
    {
     "name": "stdout",
     "output_type": "stream",
     "text": [
      "(15, 50, 5)\n"
     ]
    }
   ],
   "source": [
    "def arithmetic(a,b):\n",
    "    r = a+b\n",
    "    n = a*b\n",
    "    m = a-b\n",
    "    return r,n,m\n",
    "print(arithmetic(10,5))"
   ]
  },
  {
   "cell_type": "code",
   "execution_count": 67,
   "metadata": {},
   "outputs": [
    {
     "name": "stdout",
     "output_type": "stream",
     "text": [
      "hi amruta\n",
      "hi pawar\n"
     ]
    }
   ],
   "source": [
    "# keyword arg\n",
    "def func(fname, lname):\n",
    "    print(\"hi\",fname)\n",
    "    print(\"hi\",lname)\n",
    "func(lname='pawar', fname='amruta')"
   ]
  },
  {
   "cell_type": "code",
   "execution_count": 68,
   "metadata": {},
   "outputs": [
    {
     "name": "stdout",
     "output_type": "stream",
     "text": [
      "i am from Delhi\n",
      "i am from Mumbai\n",
      "i am from Nagpur\n"
     ]
    }
   ],
   "source": [
    "# default arg\n",
    "def func(city=\"Nagpur\"):\n",
    "    print(\"i am from\",city)\n",
    "func(\"Delhi\")\n",
    "func(\"Mumbai\")\n",
    "func()"
   ]
  },
  {
   "cell_type": "code",
   "execution_count": 71,
   "metadata": {},
   "outputs": [
    {
     "name": "stdout",
     "output_type": "stream",
     "text": [
      "1\n",
      "2\n",
      "3\n"
     ]
    }
   ],
   "source": [
    "def func(name):\n",
    "    for i in name:\n",
    "        print(i)\n",
    "\n",
    "name_of_p = ['prasant','rahul','sandip','sunil']\n",
    "name_of_p = 'amrutapawar'\n",
    "name_of_p = {1:'o',2:'p', 3:'q'}\n",
    "func(name_of_p)"
   ]
  },
  {
   "cell_type": "code",
   "execution_count": 73,
   "metadata": {},
   "outputs": [
    {
     "name": "stdout",
     "output_type": "stream",
     "text": [
      "('ashish', 'prashant', 'tushar', 1001)\n"
     ]
    }
   ],
   "source": [
    "# variabl length arg/ variable no.of arg\n",
    "def name(*name):\n",
    "    print(name)\n",
    "name('ashish','prashant','tushar',1001)"
   ]
  },
  {
   "cell_type": "code",
   "execution_count": null,
   "metadata": {},
   "outputs": [
    {
     "name": "stdout",
     "output_type": "stream",
     "text": [
      "0\n",
      "1\n",
      "1\n",
      "1\n",
      "0\n",
      "0\n"
     ]
    }
   ],
   "source": [
    "# garments company .... check image\n",
    "\n",
    "def func(area):\n",
    "    count = 0\n",
    "    area = (area ** 0.5)\n",
    "    if (area == int(area)):\n",
    "        count +=1\n",
    "    return count\n",
    "\n",
    "\n",
    "t = int(input())\n",
    "li = [int(x) for x in input().split()][:t]\n",
    "for i in li:\n",
    "    print(func(i))\n"
   ]
  },
  {
   "cell_type": "code",
   "execution_count": 74,
   "metadata": {},
   "outputs": [
    {
     "name": "stdout",
     "output_type": "stream",
     "text": [
      "True\n"
     ]
    }
   ],
   "source": [
    "print(2.0 == 2)"
   ]
  },
  {
   "cell_type": "code",
   "execution_count": 84,
   "metadata": {},
   "outputs": [
    {
     "name": "stdout",
     "output_type": "stream",
     "text": [
      "38 48 39 "
     ]
    }
   ],
   "source": [
    "# company cab question ...distances .....check image\n",
    "\n",
    "num, start, end = [int(x) for x in input().split()]\n",
    "# dist = []    #size of the list is num\n",
    "# for i in range(num):    # for input but it doesnt take input in one line\n",
    "#     x = int(input())\n",
    "#     dist.append(x)\n",
    "dist = [int(x) for x in input().split()][:num]    # do this for single line input\n",
    "\n",
    "\n",
    "for j in dist:\n",
    "    if start <= j <= end:\n",
    "        print(j, end=\" \")"
   ]
  },
  {
   "cell_type": "code",
   "execution_count": 99,
   "metadata": {},
   "outputs": [],
   "source": [
    "# network encryption\n",
    "strSent, strRec = input().split()\n",
    "for i in strSent:\n",
    "    if i not in strRec:\n",
    "        print(i)    # abcdfjgerj abcdfijger\n",
    "# print(strSent, strRec)"
   ]
  },
  {
   "cell_type": "code",
   "execution_count": 102,
   "metadata": {},
   "outputs": [
    {
     "name": "stdout",
     "output_type": "stream",
     "text": [
      "1\n",
      "2\n",
      "3\n",
      "4\n",
      "5\n"
     ]
    }
   ],
   "source": [
    "i = 1\n",
    "while i < 6:\n",
    "    if i ==3:\n",
    "        pass    # pass does nothing...it is as good as blank\n",
    "    print(i)\n",
    "    i = i+1"
   ]
  },
  {
   "cell_type": "code",
   "execution_count": 106,
   "metadata": {},
   "outputs": [
    {
     "name": "stdout",
     "output_type": "stream",
     "text": [
      "amruta 22ad1015\n"
     ]
    }
   ],
   "source": [
    "username = ''\n",
    "password = ''\n",
    "while username != 'amruta' and password != '22ad1015':\n",
    "    username = input(\"enter username\")\n",
    "    password = input(\"enter password\")\n",
    "print(username, password)"
   ]
  },
  {
   "cell_type": "code",
   "execution_count": 113,
   "metadata": {},
   "outputs": [
    {
     "name": "stdout",
     "output_type": "stream",
     "text": [
      "[333, 232, 764]\n"
     ]
    }
   ],
   "source": [
    "'''   print max in each row\n",
    "[[100, 198, 333, 323],\n",
    "[122, 232, 221, 111],\n",
    "[223, 565, 245, 764]]\n",
    "'''\n",
    "li = [[100, 198, 333, 323], [122, 232, 221, 111], [223, 565, 245, 764]]\n",
    "\n",
    "for i in range(len(li)):\n",
    "    max = 0\n",
    "    for j in li[i]:\n",
    "        if j > max:\n",
    "            max = j\n",
    "    li[i] = max\n",
    "print(li)"
   ]
  },
  {
   "cell_type": "markdown",
   "metadata": {},
   "source": [
    ">"
   ]
  },
  {
   "cell_type": "markdown",
   "metadata": {},
   "source": [
    ">"
   ]
  },
  {
   "cell_type": "code",
   "execution_count": 10,
   "metadata": {},
   "outputs": [
    {
     "name": "stdout",
     "output_type": "stream",
     "text": [
      "AAB\n"
     ]
    }
   ],
   "source": [
    "s = input()       # AAB ABC ADD\n",
    "k = int(input())\n",
    "l = len(s)\n",
    "for i in range(0,l,k):   #0\n",
    "    for j in range(i,k):   # 0,1,2\n",
    "        print(s[j], end='')\n",
    "print()"
   ]
  },
  {
   "cell_type": "markdown",
   "metadata": {},
   "source": []
  },
  {
   "cell_type": "code",
   "execution_count": 3,
   "metadata": {},
   "outputs": [
    {
     "name": "stdout",
     "output_type": "stream",
     "text": [
      "3\n"
     ]
    }
   ],
   "source": [
    "a = {(1,2):1, (2,3):2, (4,5):3}\n",
    "print(a[4,5])"
   ]
  },
  {
   "cell_type": "code",
   "execution_count": 4,
   "metadata": {},
   "outputs": [
    {
     "ename": "KeyError",
     "evalue": "('a', 'b')",
     "output_type": "error",
     "traceback": [
      "\u001b[1;31m---------------------------------------------------------------------------\u001b[0m",
      "\u001b[1;31mKeyError\u001b[0m                                  Traceback (most recent call last)",
      "Cell \u001b[1;32mIn[4], line 2\u001b[0m\n\u001b[0;32m      1\u001b[0m a \u001b[38;5;241m=\u001b[39m {\u001b[38;5;124m'\u001b[39m\u001b[38;5;124ma\u001b[39m\u001b[38;5;124m'\u001b[39m:\u001b[38;5;241m1\u001b[39m, \u001b[38;5;124m'\u001b[39m\u001b[38;5;124mb\u001b[39m\u001b[38;5;124m'\u001b[39m:\u001b[38;5;241m2\u001b[39m, \u001b[38;5;124m'\u001b[39m\u001b[38;5;124mc\u001b[39m\u001b[38;5;124m'\u001b[39m:\u001b[38;5;241m3\u001b[39m}\n\u001b[1;32m----> 2\u001b[0m \u001b[38;5;28mprint\u001b[39m(a[\u001b[38;5;124m'\u001b[39m\u001b[38;5;124ma\u001b[39m\u001b[38;5;124m'\u001b[39m, \u001b[38;5;124m'\u001b[39m\u001b[38;5;124mb\u001b[39m\u001b[38;5;124m'\u001b[39m])\n",
      "\u001b[1;31mKeyError\u001b[0m: ('a', 'b')"
     ]
    }
   ],
   "source": [
    "a = {'a':1, 'b':2, 'c':3}\n",
    "print(a['a', 'b'])"
   ]
  },
  {
   "cell_type": "code",
   "execution_count": 6,
   "metadata": {},
   "outputs": [
    {
     "name": "stdout",
     "output_type": "stream",
     "text": [
      "3\n",
      "{'Apple': 1, 'Banana': 1, 'apple': 1}\n"
     ]
    }
   ],
   "source": [
    "fruit = {}\n",
    "def addone(index):\n",
    "    if index in fruit:\n",
    "        fruit[index] +=1\n",
    "    else:\n",
    "        fruit[index] =1\n",
    "addone('Apple')\n",
    "addone('Banana')\n",
    "addone('apple')\n",
    "print(len(fruit))\n",
    "print(fruit)"
   ]
  },
  {
   "cell_type": "code",
   "execution_count": null,
   "metadata": {},
   "outputs": [],
   "source": [
    "name = 'amruta*is*a*girl'\n",
    "# output => '***amrutaisagirl'\n",
    "\n"
   ]
  },
  {
   "cell_type": "code",
   "execution_count": 8,
   "metadata": {},
   "outputs": [
    {
     "name": "stdout",
     "output_type": "stream",
     "text": [
      "2 occurs 10 times.\n"
     ]
    }
   ],
   "source": [
    "inp = [1,2,3,3,4,1,4,5,1,2]\n",
    "# count occurences w/o using count()\n",
    "count =\n",
    "for i in inp:\n"
   ]
  },
  {
   "cell_type": "code",
   "execution_count": null,
   "metadata": {},
   "outputs": [],
   "source": []
  }
 ],
 "metadata": {
  "kernelspec": {
   "display_name": "base",
   "language": "python",
   "name": "python3"
  },
  "language_info": {
   "codemirror_mode": {
    "name": "ipython",
    "version": 3
   },
   "file_extension": ".py",
   "mimetype": "text/x-python",
   "name": "python",
   "nbconvert_exporter": "python",
   "pygments_lexer": "ipython3",
   "version": "3.12.4"
  }
 },
 "nbformat": 4,
 "nbformat_minor": 2
}
