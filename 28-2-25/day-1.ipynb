{
 "cells": [
  {
   "cell_type": "markdown",
   "metadata": {},
   "source": [
    "compiler : full block of code\n",
    "interpreter : line by line\n",
    "\n",
    "python and java use both. <br>\n",
    "why are both used? : <br>\n",
    ".py or .java ==compile==>  bytecode(0s 1s)  ==interpreter==>  also in 0s 1s\n",
    "binary code is different for each os, computer\n",
    "\n",
    "interpreter => system ke according 0s and 1s mein convert hoga"
   ]
  },
  {
   "cell_type": "markdown",
   "metadata": {},
   "source": [
    "class = user defined data type, blueprint\n",
    "object = instance of class"
   ]
  },
  {
   "cell_type": "markdown",
   "metadata": {},
   "source": [
    "variable      object     both are blocks\n",
    "var is wo jiska datatype predefined hai   eg: int a, b\n",
    "obj wo jiska datatype user defined hai   eg: class Student{int roll; string name; }\n",
    "\n",
    "Student s1;  s1 is referncevariael that stores theaddress of the block\n",
    "Student s1 = new Student();   now this is an object\n",
    "\n",
    "diff b/w pointer var and reference var? => pointer ka disadv ye hai ki uske andar stored address wo sabko bata deta hai, ref variable me jo address stored hai wo kisiko nhi bata ta...wo hash value dikhaega usse value change nhi  hota. \n",
    "\n",
    "python and java => reference variable."
   ]
  },
  {
   "cell_type": "markdown",
   "metadata": {},
   "source": [
    "why is s1 a refernce var and not object name? coz ight now it is s1 refernce var that stores the address of the object.\n",
    "sma & dma => check dynamic mem alloc\n",
    "\n",
    "at runtime can chane things at runtime, and runtime pe jo change hote hai unko naam nhi hota"
   ]
  },
  {
   "cell_type": "markdown",
   "metadata": {},
   "source": [
    "void main()\n",
    "{\n",
    "    int bal, *p;\n",
    "\n",
    "    print(\"%d\",&bal);\n",
    "    print(\"%d\",&p);\n",
    "\n",
    "    p = &bal;\n",
    "    prntf(\"%d\",p);  // 44\n",
    "}"
   ]
  },
  {
   "cell_type": "markdown",
   "metadata": {},
   "source": [
    "static => if class student, college name to sabke same honge.. so alag alag block se mem waste hogi. if name cahnge hua toh sabka alag alag change karna hoga. if all objects have same data, then take that common and show that as static.\n",
    "\n",
    "** static --> single copy exists throughout the program, can be used by all **\n",
    "\n",
    "\n",
    "\n",
    "python object : s1 = Student();    # s1 ka data type is Student\n",
    "java object: Student s1 = new Student();"
   ]
  },
  {
   "cell_type": "markdown",
   "metadata": {},
   "source": [
    "non static variables => are instance variables i.e the instance variables uski utni copies banegi jitne ki no.of objects hai.\n",
    "\n",
    "class Student{\n",
    "\n",
    "    int rollNo;   => object variable\n",
    "\n",
    "    string name;   => object variable\n",
    "\n",
    "    static string collegeName;   => class variable   .....\n",
    "\n",
    "}\n",
    "Student s1 = new Student();\n",
    "\n",
    "Student s2 = new Student();\n",
    "\n",
    "Student s3 = new Student();"
   ]
  },
  {
   "cell_type": "markdown",
   "metadata": {},
   "source": [
    "============"
   ]
  },
  {
   "cell_type": "markdown",
   "metadata": {},
   "source": [
    "============="
   ]
  },
  {
   "cell_type": "markdown",
   "metadata": {},
   "source": [
    "Class <br>\n",
    "{<br>\n",
    "    members<br>\n",
    "}\n",
    "\n",
    "\n",
    "function <br>\n",
    "{<br>\n",
    "    local<br>\n",
    "}"
   ]
  },
  {
   "cell_type": "code",
   "execution_count": 1,
   "metadata": {},
   "outputs": [
    {
     "data": {
      "text/plain": [
       "'\\nclass Ex{\\n    int x;    # no.of objects jitni copy,    x is instance member variable   non-static member variable\\n    static int y;   # class var,   static member variable\\n    void fun()\\n    {\\n        int y;\\n    }\\n}\\n'"
      ]
     },
     "execution_count": 1,
     "metadata": {},
     "output_type": "execute_result"
    }
   ],
   "source": [
    "# java\n",
    "'''\n",
    "class Ex{\n",
    "    int x;    # no.of objects jitni copy,    x is instance member variable   non-static member variable\n",
    "    static int y;   # class var,   static member variable\n",
    "    void fun()\n",
    "    {\n",
    "        int y;\n",
    "    }\n",
    "}\n",
    "'''\n",
    "# class Ex ke andar, 3 members hai ek 'x' and ek 'fun()' and 'y'"
   ]
  },
  {
   "cell_type": "code",
   "execution_count": null,
   "metadata": {},
   "outputs": [],
   "source": [
    "# java\n",
    "'''\n",
    "class Student\n",
    "{\n",
    "    int roll;\n",
    "    string name;\n",
    "    static string cn;    # even if no obj created u can access with class hence class variable\n",
    "}\n",
    "\n",
    "Student.cn\n",
    "'''\n",
    "# in java : the objects as well as the class can change the class variable i.e the static variable\n",
    "# in python : objects can only access this class var, but only the class can change the class variable"
   ]
  },
  {
   "cell_type": "markdown",
   "metadata": {},
   "source": [
    "//"
   ]
  },
  {
   "cell_type": "code",
   "execution_count": null,
   "metadata": {},
   "outputs": [
    {
     "name": "stdout",
     "output_type": "stream",
     "text": [
      "1\n",
      "amruta\n",
      "2\n",
      "amrita\n"
     ]
    }
   ],
   "source": [
    "# constructor \n",
    "\n",
    "class Student:\n",
    "    def __init__(self, roll, name):   # 3 local variables, of 1 member func\n",
    "        # self is also a local var, self = (address of the caller object) i.e s1 ka address\n",
    "        self.x = roll   # roll & name can only be used inside __init__ func as they are local\n",
    "        self.y = name  # name and roll are local variable as in __init__ function\n",
    "        # self.x will make a member block called x in your class, so that it can be accessed anywher in the class\n",
    "        # basically mem block (self.x)  = roll (local)\n",
    "        '''   this is possible tho\n",
    "        print(roll)\n",
    "        print(name)    \n",
    "        '''\n",
    "\n",
    "\n",
    "s1 = Student(1, 'amruta')  # object bante hi constructor call hota hai   .... 1 = local roll, amruta = local name\n",
    "#### now constructor call hua, so fir self.x = roll  means...s1.x = 1   as now self = s1 that is the address\n",
    "s2 = Student(2, 'amrita')  # these brackets basically call constrctor\n",
    "\n",
    "print(s1.x)\n",
    "print(s1.y)\n",
    "print(s2.x)\n",
    "print(s2.y)"
   ]
  },
  {
   "cell_type": "code",
   "execution_count": 27,
   "metadata": {},
   "outputs": [
    {
     "name": "stdout",
     "output_type": "stream",
     "text": [
      "1\n",
      "amruta\n",
      "1 amruta DYP\n",
      "1 amruta DYP\n",
      "DYP University\n",
      "1 amruta DYP University\n",
      "<__main__.Student object at 0x0000025281336090>\n",
      "{'r': 1, 'n': 'amruta', 'collegeName': 'DYP University'}\n",
      "{'r': 2, 'n': 'harry'}\n"
     ]
    }
   ],
   "source": [
    "class Student:\n",
    "    collegeName = 'DYP'   # this is static call variable\n",
    "    def __init__(self,roll,name):\n",
    "        self.r = roll\n",
    "        self.n = name\n",
    "\n",
    "    def showInfo(self):\n",
    "        return (f'{self.r} {self.n} {Student.collegeName}')\n",
    "\n",
    "s1 = Student(1,'amruta')\n",
    "print(s1.r)\n",
    "print(s1.n)\n",
    "# print(Student.collegeName)   # both show DYP\n",
    "# print(s1.collegeName)   # both show DYP\n",
    "print(s1.showInfo())\n",
    "\n",
    "s1.collegeName = 'DYP University'   # only clas can change the class variable\n",
    "print(s1.showInfo())\n",
    "print(s1.collegeName)   # this is s1 ka khudka member collegeName that it created to change the static var\n",
    "\n",
    "Student.collegeName = 'DYP University'\n",
    "print(s1.showInfo())\n",
    "\n",
    "\n",
    "s2 = Student(2, 'harry')\n",
    "print(s1)\n",
    "print(s1.__dict__)    # {'r': 1, 'n': 'amruta', 'collegeName': 'DYP University'}  # you are getting collegeName here coz u changed s1.collegeName so ye static wala collegeName maine object se change kiya so wo object ke andar uska khudak member collegeName ban gaya hai\n",
    "print(s2.__dict__)    # {'r': 2, 'n': 'harry'}   # here collegeName is static only class wala, it does not have it own member collegeName"
   ]
  },
  {
   "cell_type": "code",
   "execution_count": null,
   "metadata": {},
   "outputs": [
    {
     "name": "stdout",
     "output_type": "stream",
     "text": [
      "140707815833560\n",
      "140707815834200\n"
     ]
    }
   ],
   "source": [
    "# is int, float, str mutable ? immutable\n",
    "# dict keays are immutable, values are mutable\n",
    "# ### immutable means its value can change but its address changes\n",
    "x = 50\n",
    "print(id(x))  # 140707815833560\n",
    "\n",
    "x = 70\n",
    "print(id(x))  # 140707815834200"
   ]
  },
  {
   "cell_type": "code",
   "execution_count": 6,
   "metadata": {},
   "outputs": [
    {
     "name": "stdout",
     "output_type": "stream",
     "text": [
      "2781663310528\n",
      "2781663491840\n"
     ]
    }
   ],
   "source": [
    "a = (1,2,3)\n",
    "b = (1,2,3)\n",
    "print(id(a))\n",
    "print(id(b))   # address should be same but here it is not showing for some reason .. check"
   ]
  },
  {
   "cell_type": "code",
   "execution_count": null,
   "metadata": {},
   "outputs": [
    {
     "name": "stdout",
     "output_type": "stream",
     "text": [
      "2781663427968\n",
      "2781663379136\n"
     ]
    }
   ],
   "source": [
    "x = [1,2,3]\n",
    "y = [1,2,3]\n",
    "\n",
    "print(id(x))   # 2781663379136\n",
    "print(id(y))   # 2781663379136"
   ]
  },
  {
   "cell_type": "code",
   "execution_count": null,
   "metadata": {},
   "outputs": [
    {
     "name": "stdout",
     "output_type": "stream",
     "text": [
      "hello\n",
      "30\n",
      "30\n"
     ]
    }
   ],
   "source": [
    "# 1) ---- no argument and no return type function ----\n",
    "def msg():   # indentation is 4 spaces or 2 spaces \n",
    "    print('hello')\n",
    "msg()\n",
    "\n",
    "\n",
    "# 2) ---- with argument no return type ----\n",
    "def add(a, b):   # parameters\n",
    "    print(a+b)\n",
    "add(10, 20)  # argument\n",
    "# add(10)  # TypeError\n",
    "\n",
    "def add(a, b=0):   # parameters\n",
    "    print(a+b)\n",
    "add(10, 20)  # argument\n",
    "\n",
    "\n",
    "# 3) --- with argument and return type ---\n",
    "def add(a=0, b=0):\n",
    "    return a+b\n",
    "print(add(10, 20))"
   ]
  },
  {
   "cell_type": "code",
   "execution_count": null,
   "metadata": {},
   "outputs": [
    {
     "name": "stdout",
     "output_type": "stream",
     "text": [
      "20\n",
      "20\n",
      "3\n",
      "240\n"
     ]
    }
   ],
   "source": [
    "'''\n",
    "32 16 8 4 2 1\n",
    "0  1  0 1 0 0  => 20 \n",
    "0 1  1  1 1 0   => 30\n",
    "\n",
    "0  1 0  1  0 0  => 2o\n",
    "'''\n",
    "\n",
    "print(30 & 20)   # bitwise &\n",
    "print(30>>3)\n",
    "print(30<<3)\n"
   ]
  },
  {
   "cell_type": "code",
   "execution_count": 29,
   "metadata": {},
   "outputs": [
    {
     "name": "stdout",
     "output_type": "stream",
     "text": [
      "(5, 3, 4, 10)\n",
      "22\n",
      "()\n",
      "0\n",
      "------\n",
      "8\n",
      "14\n"
     ]
    }
   ],
   "source": [
    "# flexible or generic functions in python **\n",
    "# flexible func takes values in the form of tuple\n",
    "\n",
    "def add(*x):   # FOR UNKNOWN NO.OF ARGUMENTS\n",
    "    print(x)  \n",
    "    sum = 0\n",
    "    for i in x:\n",
    "        sum = sum + i\n",
    "    print(sum)\n",
    "\n",
    "\n",
    "add(5,3,4,10)    # OP => (5, 3, 4, 10)      sum=22\n",
    "add()            # OP => ()   sum = 0\n",
    "# add('2','s','o')    # OP => ('2', 's', 'o')   comment the sum for loop fir this\n",
    "\n",
    "\n",
    "print('------')\n",
    "\n",
    "\n",
    "def add2(a,b,*x):\n",
    "    sum = 0\n",
    "    print(a+b)\n",
    "    for i in x:\n",
    "        sum = sum + i\n",
    "    print(sum)\n",
    "add2(5,3,4,10)"
   ]
  },
  {
   "cell_type": "code",
   "execution_count": 31,
   "metadata": {},
   "outputs": [
    {
     "name": "stdout",
     "output_type": "stream",
     "text": [
      "{'name': 'Amruta', 'city': 'Nashik'}\n",
      "{'name': 'Amruta', 'city': 'Nashik'}\n",
      "55\n"
     ]
    }
   ],
   "source": [
    "# kw arguments or key arguments : when passing data in dictionary form  ****\n",
    "def fun(**kwargs):\n",
    "    print(kwargs)\n",
    "fun(name='Amruta', city='Nashik')\n",
    "\n",
    "\n",
    "def fun2(x,**kwargs):\n",
    "    print(kwargs)\n",
    "    print(x)\n",
    "fun2(55,name='Amruta', city='Nashik')"
   ]
  },
  {
   "cell_type": "code",
   "execution_count": 36,
   "metadata": {},
   "outputs": [
    {
     "name": "stdout",
     "output_type": "stream",
     "text": [
      "roll 15\n",
      "name amruta\n",
      "city thane\n",
      "\n",
      "roll 15\n",
      "name amruta\n",
      "city thane\n",
      "\n",
      "dict_items([('roll', 15), ('name', 'amruta'), ('city', 'thane')])\n"
     ]
    }
   ],
   "source": [
    "student = {\n",
    "    'roll':15,\n",
    "    'name': 'amruta',\n",
    "    'city':'thane'\n",
    "}\n",
    "for i in student:\n",
    "    print(i, student[i])\n",
    "\n",
    "print()\n",
    "for i,j in student.items():\n",
    "    print(i,j)\n",
    "\n",
    "print()\n",
    "print(student.items())"
   ]
  },
  {
   "cell_type": "code",
   "execution_count": null,
   "metadata": {},
   "outputs": [],
   "source": [
    "# filter function ***\n"
   ]
  },
  {
   "cell_type": "code",
   "execution_count": 46,
   "metadata": {},
   "outputs": [
    {
     "name": "stdout",
     "output_type": "stream",
     "text": [
      "8\n",
      "use for documentation\n",
      "Help on function add in module __main__:\n",
      "\n",
      "add(a, b)\n",
      "    use for documentation\n",
      "\n",
      "None\n"
     ]
    }
   ],
   "source": [
    "def add(a,b):\n",
    "    '''use for documentation'''     # documentation string\n",
    "    print(a+b)\n",
    "add(5,3)\n",
    "print(add.__doc__)    # use for addition\n",
    "print(help(add))"
   ]
  },
  {
   "cell_type": "code",
   "execution_count": null,
   "metadata": {},
   "outputs": [
    {
     "name": "stdout",
     "output_type": "stream",
     "text": [
      "25\n"
     ]
    }
   ],
   "source": [
    "def sqr(n):     \n",
    "    return (n*n)\n",
    "\n",
    "x = sqr     # we can give another name to a function\n",
    "print(x(5))"
   ]
  },
  {
   "cell_type": "code",
   "execution_count": null,
   "metadata": {},
   "outputs": [
    {
     "name": "stdout",
     "output_type": "stream",
     "text": [
      "hello students\n"
     ]
    }
   ],
   "source": [
    "class Ex(object):    # this is same as class Ex:\n",
    "    def msg(self):\n",
    "        print('hello students')\n",
    "\n",
    "e1 = Ex()\n",
    "e1.msg()"
   ]
  },
  {
   "cell_type": "code",
   "execution_count": null,
   "metadata": {},
   "outputs": [
    {
     "name": "stdout",
     "output_type": "stream",
     "text": [
      "100\n"
     ]
    }
   ],
   "source": [
    "# ### INHERITANCE\n",
    "class A:\n",
    "    x=100   # STATIC CLASS VARIABLE\n",
    "class B(A):\n",
    "    pass\n",
    "b1 = B()\n",
    "print(b1.x)"
   ]
  },
  {
   "cell_type": "code",
   "execution_count": 53,
   "metadata": {},
   "outputs": [
    {
     "name": "stdout",
     "output_type": "stream",
     "text": [
      "hello students\n",
      "10\n"
     ]
    }
   ],
   "source": [
    "class A:\n",
    "    x = 10   # static var\n",
    " \n",
    "    @staticmethod    # === DECORATOR ===\n",
    "    def msg():   # class static method, hence no self\n",
    "        print('hello students')\n",
    "        print(A.x)\n",
    "\n",
    "A.msg()"
   ]
  },
  {
   "cell_type": "code",
   "execution_count": 58,
   "metadata": {},
   "outputs": [],
   "source": [
    "#default constructor =====\n",
    "class A:\n",
    "    # def __init__(self):\n",
    "    #     print('Default')\n",
    "\n",
    "    # even if you write pass, it will give Default\n",
    "    pass\n",
    "\n",
    "a1 = A()"
   ]
  },
  {
   "cell_type": "code",
   "execution_count": null,
   "metadata": {},
   "outputs": [],
   "source": [
    "# parameterized constructor\n",
    "\n",
    "class A:\n",
    "    def __init__(self,x,y):\n",
    "        print('Parameterized',x,y) \n",
    "a1 = A(5,3)"
   ]
  },
  {
   "cell_type": "code",
   "execution_count": null,
   "metadata": {},
   "outputs": [],
   "source": [
    "# copy constructor: copy one object data into other object"
   ]
  },
  {
   "cell_type": "markdown",
   "metadata": {},
   "source": [
    "destructor destroys the allocated memory to the object. but python doesn't need destructor as pytho has garbage collectore"
   ]
  },
  {
   "cell_type": "code",
   "execution_count": 61,
   "metadata": {},
   "outputs": [
    {
     "name": "stdout",
     "output_type": "stream",
     "text": [
      "constructor\n",
      "destructor\n"
     ]
    }
   ],
   "source": [
    "# destructor code   =======\n",
    "class A:\n",
    "    def __init__(self):\n",
    "        print('constructor')\n",
    "\n",
    "    def __del__(self):\n",
    "        print('destructor')\n",
    "\n",
    "a1 = A()"
   ]
  },
  {
   "cell_type": "markdown",
   "metadata": {},
   "source": [
    "JAVA DOESN'T SUPPORT MULTIPLE INHERITANCE"
   ]
  },
  {
   "cell_type": "code",
   "execution_count": 62,
   "metadata": {},
   "outputs": [
    {
     "name": "stdout",
     "output_type": "stream",
     "text": [
      "10 20\n"
     ]
    }
   ],
   "source": [
    "#single inheritance\n",
    "class A:\n",
    "    x = 10\n",
    "class B(A):\n",
    "    y = 20\n",
    "\n",
    "b1 = B()\n",
    "print(b1.x, b1.y)"
   ]
  },
  {
   "cell_type": "code",
   "execution_count": 63,
   "metadata": {},
   "outputs": [
    {
     "name": "stdout",
     "output_type": "stream",
     "text": [
      "10 100\n",
      "10 100 1000\n"
     ]
    }
   ],
   "source": [
    "# multi-level inheritance\n",
    "class A:\n",
    "    x = 10\n",
    "class B(A):\n",
    "    y = 100\n",
    "class C(B):\n",
    "    z = 1000\n",
    "\n",
    "b1 = B()\n",
    "print(b1.x, b1.y)\n",
    "\n",
    "c1 = C()\n",
    "print(c1.x, c1.y, c1.z)"
   ]
  },
  {
   "cell_type": "code",
   "execution_count": null,
   "metadata": {},
   "outputs": [
    {
     "name": "stdout",
     "output_type": "stream",
     "text": [
      "20 20 0\n"
     ]
    }
   ],
   "source": [
    "# multiple inheritance\n",
    "class A:\n",
    "    x = 10\n",
    "class B:\n",
    "    x = 20\n",
    "\n",
    "class C(A,B):   # if it was C(B,A) then it will print 20\n",
    "    z = 0\n",
    "\n",
    "c1 = C()\n",
    "print(c1.x, c1.x, c1.z)    # will show the x=10 as first c1.x comes 10 "
   ]
  },
  {
   "cell_type": "code",
   "execution_count": 74,
   "metadata": {},
   "outputs": [
    {
     "name": "stdout",
     "output_type": "stream",
     "text": [
      "10\n",
      "20\n",
      "10 10 0\n",
      "10\n"
     ]
    }
   ],
   "source": [
    "# multiple inheritance see this too ==\n",
    "class A:\n",
    "    x = 10\n",
    "class B:\n",
    "    x = 20\n",
    "\n",
    "class C(A,B):  \n",
    "    z = 0\n",
    "    print(A.x)   # 10\n",
    "    print(B.x)   # 20\n",
    "    def fun(self):\n",
    "        print(self.x)   # left parent is A hence 10\n",
    "\n",
    "c1 = C()\n",
    "print(c1.x, c1.x, c1.z)    # will show the x=10 as first c1.x comes 10 \n",
    "c1.fun()"
   ]
  },
  {
   "cell_type": "markdown",
   "metadata": {},
   "source": [
    "//"
   ]
  },
  {
   "cell_type": "markdown",
   "metadata": {},
   "source": [
    "//"
   ]
  },
  {
   "cell_type": "code",
   "execution_count": null,
   "metadata": {},
   "outputs": [
    {
     "ename": "TypeError",
     "evalue": "Ex.add() missing 2 required positional arguments: 'b' and 'c'",
     "output_type": "error",
     "traceback": [
      "\u001b[1;31m---------------------------------------------------------------------------\u001b[0m",
      "\u001b[1;31mTypeError\u001b[0m                                 Traceback (most recent call last)",
      "Cell \u001b[1;32mIn[2], line 26\u001b[0m\n\u001b[0;32m     23\u001b[0m         \u001b[38;5;28mprint\u001b[39m(a\u001b[38;5;241m+\u001b[39mb\u001b[38;5;241m+\u001b[39mc)\n\u001b[0;32m     25\u001b[0m e1 \u001b[38;5;241m=\u001b[39m Ex()\n\u001b[1;32m---> 26\u001b[0m e1\u001b[38;5;241m.\u001b[39madd(\u001b[38;5;241m5\u001b[39m,)\n\u001b[0;32m     27\u001b[0m e1\u001b[38;5;241m.\u001b[39madd(\u001b[38;5;241m5\u001b[39m,\u001b[38;5;241m3\u001b[39m)\n\u001b[0;32m     28\u001b[0m e1\u001b[38;5;241m.\u001b[39madd(\u001b[38;5;241m5\u001b[39m,\u001b[38;5;241m3\u001b[39m,\u001b[38;5;241m6\u001b[39m)\n",
      "\u001b[1;31mTypeError\u001b[0m: Ex.add() missing 2 required positional arguments: 'b' and 'c'"
     ]
    }
   ],
   "source": [
    "# method overloading in python ....but this is bleh ..so look at java example in day-1.txt\n",
    "# class Ex:\n",
    "#     def add(self, a,b,c=None):\n",
    "#         if(c is None):\n",
    "#             print(a+b)\n",
    "#         else:\n",
    "#             print(a+b+c)\n",
    "# e1 = Ex()\n",
    "# e1.add(5,3)\n",
    "# e1.add(5,3,6)   \n",
    "\n",
    "\n",
    "\n",
    "\n",
    "# this is not allowed in python  **** important *** check this\n",
    "class Ex:\n",
    "    def add(self, a):\n",
    "        print(a)\n",
    "    def add(self, a,b):\n",
    "        print(a+b)\n",
    "    def add(self, a,b,c):\n",
    "        print(a+b+c)\n",
    "        \n",
    "e1 = Ex()\n",
    "e1.add(5,)     # TypeError: Ex.add() missing 2 required positional arguments: 'b' and 'c'\n",
    "e1.add(5,3)\n",
    "e1.add(5,3,6)   "
   ]
  }
 ],
 "metadata": {
  "kernelspec": {
   "display_name": "base",
   "language": "python",
   "name": "python3"
  },
  "language_info": {
   "codemirror_mode": {
    "name": "ipython",
    "version": 3
   },
   "file_extension": ".py",
   "mimetype": "text/x-python",
   "name": "python",
   "nbconvert_exporter": "python",
   "pygments_lexer": "ipython3",
   "version": "3.12.4"
  }
 },
 "nbformat": 4,
 "nbformat_minor": 2
}
