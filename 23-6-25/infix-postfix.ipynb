{
 "cells": [
  {
   "cell_type": "markdown",
   "id": "51da753e",
   "metadata": {},
   "source": [
    "Infix postfix prefix"
   ]
  },
  {
   "cell_type": "code",
   "execution_count": null,
   "id": "aa7bf74a",
   "metadata": {},
   "outputs": [],
   "source": [
    "# a+9b-t*r\n",
    "# postfix => a9btr+-*\n",
    "\n",
    "def infix_postfix(s):\n",
    "    \n",
    "\n",
    "s = input()\n",
    "infix_postfix(s)"
   ]
  }
 ],
 "metadata": {
  "kernelspec": {
   "display_name": "base",
   "language": "python",
   "name": "python3"
  },
  "language_info": {
   "name": "python",
   "version": "3.12.4"
  }
 },
 "nbformat": 4,
 "nbformat_minor": 5
}
