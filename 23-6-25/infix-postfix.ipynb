{
 "cells": [
  {
   "cell_type": "markdown",
   "id": "51da753e",
   "metadata": {},
   "source": [
    "Infix postfix prefix   \n",
    "\n",
    "using stack"
   ]
  },
  {
   "cell_type": "markdown",
   "id": "406991ab",
   "metadata": {},
   "source": [
    "if bracket ( push into stack <br>\n",
    "if ) then pop until \"(\"\n",
    "\n",
    "precendence :<br>\n",
    "** <br>\n",
    "*/%//  <br>\n",
    "+-  <br>\n",
    "0"
   ]
  },
  {
   "cell_type": "markdown",
   "id": "c7e32495",
   "metadata": {},
   "source": [
    "push (  ) and operators into stack <br>\n",
    "operands into answer"
   ]
  },
  {
   "cell_type": "markdown",
   "id": "205585e9",
   "metadata": {},
   "source": [
    "(a+b)*c+d             (\n",
    "+b)*c+d      a        (\n",
    "b)*c+d       a        ( +\n",
    ")*c+d        ab       ( +\n",
    "*c+d         ab+      (\n",
    "c+d          ab+      ( *\n",
    "+d           ab+c     ( *\n",
    "d           ab+c      ( +       .....it wont be ( * +    coz    and pop star\n",
    "            ab+c*d    ( +\n",
    "            ab+c*d+"
   ]
  },
  {
   "cell_type": "code",
   "execution_count": null,
   "id": "aa7bf74a",
   "metadata": {},
   "outputs": [
    {
     "ename": "IndentationError",
     "evalue": "expected an indented block after function definition on line 5 (664918457.py, line 8)",
     "output_type": "error",
     "traceback": [
      "\u001b[1;36m  Cell \u001b[1;32mIn[1], line 8\u001b[1;36m\u001b[0m\n\u001b[1;33m    s = input()\u001b[0m\n\u001b[1;37m    ^\u001b[0m\n\u001b[1;31mIndentationError\u001b[0m\u001b[1;31m:\u001b[0m expected an indented block after function definition on line 5\n"
     ]
    }
   ],
   "source": [
    "s = '(a+b)*c+d'\n",
    "s = list(s)\n",
    "\n",
    "stack = []\n",
    "ans = ''\n",
    "\n",
    "def example(x):\n",
    "    isOperator = False\n",
    "    if x in ['+', '-', '*', '/', '%', '//']:\n",
    "        isOperator = True\n",
    "    if isOperator:\n",
    "        # precedence\n",
    "\n",
    "        # operator then push to stack\n",
    "        \n",
    "\n",
    "\n"
   ]
  },
  {
   "cell_type": "code",
   "execution_count": 14,
   "id": "804170be",
   "metadata": {},
   "outputs": [
    {
     "name": "stdout",
     "output_type": "stream",
     "text": [
      "ab+c*d+\n"
     ]
    }
   ],
   "source": [
    "def isOperator(i):\n",
    "    if i in ['+', '-', '*', '/', '%', '**', '//']:\n",
    "        return True\n",
    "\n",
    "def precedence(i):\n",
    "    if i == \"**\":\n",
    "        return 3\n",
    "    elif i in ['*', '/', '%']:\n",
    "        return 2\n",
    "    elif i in ['+', '-']:\n",
    "        return 1\n",
    "\n",
    "\n",
    "def infix_postfix(s):\n",
    "    stack = []\n",
    "    ans = ''\n",
    "\n",
    "    for i in s:\n",
    "        if i == '(':\n",
    "            stack.append('(')\n",
    "        elif i == ')':\n",
    "            while stack and stack[-1] != '(':\n",
    "                ans = ans + stack.pop()\n",
    "            stack.pop()\n",
    "        # 97-122     65-90    => ord   OR can do just this\n",
    "        elif(i>='a' and i<='z') or (i>='A' and i<='Z'):\n",
    "            ans = ans + i    \n",
    "        elif isOperator(i):\n",
    "            while stack and stack[-1] != '(' and precedence(stack[-1]) >= precedence(i):\n",
    "                ans = ans + stack.pop()\n",
    "            stack.append(i)\n",
    "    \n",
    "    while stack:\n",
    "        ans = ans + stack.pop()\n",
    "\n",
    "    return(ans)\n",
    "\n",
    "s = '(a+b)*c+d'\n",
    "print(infix_postfix(s))\n"
   ]
  },
  {
   "cell_type": "markdown",
   "id": "d63dd6c5",
   "metadata": {},
   "source": [
    "walrus operator <br>\n",
    "print(a=10) => gives error<br>\n",
    "so<br>\n",
    "print(a:=10) => gives correct<br>"
   ]
  },
  {
   "cell_type": "markdown",
   "id": "153418fa",
   "metadata": {},
   "source": [
    "## Prefix : <br>\n",
    "\n",
    "s = (a+b)*c\n",
    "reverse : c*)b+a(\n",
    "brackets swap : c*(b+a)\n",
    "apply postfix here : cba+*\n",
    "reverse this : *+abc  => final answer"
   ]
  },
  {
   "cell_type": "code",
   "execution_count": 15,
   "id": "36577e96",
   "metadata": {},
   "outputs": [
    {
     "name": "stdout",
     "output_type": "stream",
     "text": [
      "c\n",
      "*\n",
      ")\n",
      "b\n",
      "+\n",
      "a\n",
      "(\n",
      "['c', '*', '(', 'b', '+', 'a', ')']\n",
      "*+abc\n"
     ]
    }
   ],
   "source": [
    "# prefix\n",
    "\n",
    "def infix_prefix(s):\n",
    "    ans = ''\n",
    "    # reverse the string\n",
    "    s = s[::-1]\n",
    "    # brackets swap\n",
    "    s = list(s)\n",
    "    for i in range(len(s)):\n",
    "        print(s[i])\n",
    "        if s[i] == '(':\n",
    "            s[i] = ')'\n",
    "        elif s[i] == ')':\n",
    "            s[i] = '('\n",
    "    print(s)\n",
    "    # postfix\n",
    "    s = str(s)\n",
    "    ans = infix_postfix(s)\n",
    "    # reverse the postfix\n",
    "    ans = ans[::-1]\n",
    "    return ans\n",
    "\n",
    "\n",
    "s = '(a+b)*c'\n",
    "print(infix_prefix(s))"
   ]
  },
  {
   "cell_type": "code",
   "execution_count": null,
   "id": "8cfba2c5",
   "metadata": {},
   "outputs": [],
   "source": []
  },
  {
   "cell_type": "code",
   "execution_count": null,
   "id": "6e34c75a",
   "metadata": {},
   "outputs": [],
   "source": []
  }
 ],
 "metadata": {
  "kernelspec": {
   "display_name": "base",
   "language": "python",
   "name": "python3"
  },
  "language_info": {
   "codemirror_mode": {
    "name": "ipython",
    "version": 3
   },
   "file_extension": ".py",
   "mimetype": "text/x-python",
   "name": "python",
   "nbconvert_exporter": "python",
   "pygments_lexer": "ipython3",
   "version": "3.12.4"
  }
 },
 "nbformat": 4,
 "nbformat_minor": 5
}
