{
 "cells": [
  {
   "cell_type": "code",
   "execution_count": null,
   "metadata": {},
   "outputs": [
    {
     "name": "stdout",
     "output_type": "stream",
     "text": [
      "['5', '7', '8', '3', '9', '2']\n"
     ]
    },
    {
     "data": {
      "text/plain": [
       "3"
      ]
     },
     "execution_count": 2,
     "metadata": {},
     "output_type": "execute_result"
    }
   ],
   "source": [
    "# company ..security key is count of repeating digits\n",
    "'''\n",
    "578378923          3 7 8\n",
    "op =>3\n",
    "'''\n",
    "\n",
    "def security_key(data):\n",
    "    unique = []\n",
    "    for i in data:\n",
    "        if i not in unique:\n",
    "            unique.append(i)\n",
    "    print(unique)\n",
    "    return (len(data) - len(unique))\n",
    "\n",
    "data = input()\n",
    "security_key(data)"
   ]
  },
  {
   "cell_type": "code",
   "execution_count": 3,
   "metadata": {},
   "outputs": [
    {
     "name": "stdout",
     "output_type": "stream",
     "text": [
      "4 6\n"
     ]
    }
   ],
   "source": [
    "x = 4\n",
    "y = x\n",
    "y +=2\n",
    "print(x,y)"
   ]
  },
  {
   "cell_type": "code",
   "execution_count": null,
   "metadata": {},
   "outputs": [],
   "source": [
    "# ascii val of space => 32\n",
    "# ascii val of A => 65\n",
    "# ascii val of a => 97"
   ]
  },
  {
   "cell_type": "code",
   "execution_count": null,
   "metadata": {},
   "outputs": [],
   "source": []
  },
  {
   "cell_type": "code",
   "execution_count": 4,
   "metadata": {},
   "outputs": [
    {
     "name": "stdout",
     "output_type": "stream",
     "text": [
      "hello student\n"
     ]
    }
   ],
   "source": [
    "class Student:\n",
    "    def fun(self):\n",
    "        print('hello student')\n",
    "    \n",
    "s1 = Student()\n",
    "s1.fun()"
   ]
  },
  {
   "cell_type": "code",
   "execution_count": null,
   "metadata": {},
   "outputs": [
    {
     "name": "stdout",
     "output_type": "stream",
     "text": [
      "1 Amu\n",
      "hello student\n"
     ]
    }
   ],
   "source": [
    "class Student:\n",
    "    def __init__(self, roll, name):\n",
    "        self.roll = roll\n",
    "        self.name =name\n",
    "        print(self.roll, self.name)\n",
    "    def fun(self):\n",
    "        print('hello student')\n",
    "    \n",
    "s1 = Student(1,'Amu')\n",
    "s1 = Student(2,'Amr')\n",
    "s1.fun()"
   ]
  },
  {
   "cell_type": "code",
   "execution_count": null,
   "metadata": {},
   "outputs": [],
   "source": []
  }
 ],
 "metadata": {
  "kernelspec": {
   "display_name": "base",
   "language": "python",
   "name": "python3"
  },
  "language_info": {
   "codemirror_mode": {
    "name": "ipython",
    "version": 3
   },
   "file_extension": ".py",
   "mimetype": "text/x-python",
   "name": "python",
   "nbconvert_exporter": "python",
   "pygments_lexer": "ipython3",
   "version": "3.12.4"
  }
 },
 "nbformat": 4,
 "nbformat_minor": 2
}
