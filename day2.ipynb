{
 "cells": [
  {
   "cell_type": "code",
   "execution_count": 5,
   "metadata": {},
   "outputs": [
    {
     "name": "stdout",
     "output_type": "stream",
     "text": [
      "progamin\n"
     ]
    }
   ],
   "source": [
    "# Q) Remove the duplicate characters\n",
    "# name = 'programming'\n",
    "# for i in name:\n",
    "#     for j in name:\n",
    "#         if i == j:\n",
    "#             del(j)\n",
    "\n",
    "name = 'programming'\n",
    "new_string = ''\n",
    "for i in name:\n",
    "    if i not in new_string:     #not in is membership operator\n",
    "        new_string = new_string+i   #concatenate\n",
    "print(new_string)"
   ]
  },
  {
   "cell_type": "markdown",
   "metadata": {},
   "source": [
    "> LIST : \n",
    "orderwise data, \n",
    "mutable, \n",
    "represented by [ ], \n",
    "heterogeneous(different type) data can be stored, duplicates are allowed, it is growable i.e no need to mention size"
   ]
  },
  {
   "cell_type": "markdown",
   "metadata": {},
   "source": [
    "> list also has -ve indexing, also slicing like in string,"
   ]
  },
  {
   "cell_type": "code",
   "execution_count": 32,
   "metadata": {},
   "outputs": [
    {
     "name": "stdout",
     "output_type": "stream",
     "text": [
      "['hi', 2, 10.89, True, 'no', 'yo']\n",
      "<class 'list'>\n",
      "hi\n",
      "yo\n",
      "[10.89, True, 'no']\n",
      "[2, True, 'yo']\n",
      "['hi', 2, 10.89, True]\n"
     ]
    }
   ],
   "source": [
    "myList = ['hi', 2, 10.89, True, 'no', 'yo']\n",
    "print(myList)\n",
    "print(type(myList))\n",
    "print(myList[0])\n",
    "print(myList[-1])\n",
    "print(myList[2:5])\n",
    "print(myList[1:6:2])\n",
    "print(myList[:4])"
   ]
  },
  {
   "cell_type": "code",
   "execution_count": 33,
   "metadata": {},
   "outputs": [
    {
     "name": "stdout",
     "output_type": "stream",
     "text": [
      "['hi', 2, 10.89, True, 'no', 'yo']\n",
      "['hellooo', 2, 10.89, True, 'no', 'yo']\n"
     ]
    }
   ],
   "source": [
    "# mutability\n",
    "print(myList)\n",
    "myList[0] = 'hellooo'\n",
    "print(myList)"
   ]
  },
  {
   "cell_type": "code",
   "execution_count": 34,
   "metadata": {},
   "outputs": [
    {
     "name": "stdout",
     "output_type": "stream",
     "text": [
      "['hellooo', 2, 10.89, True, 'no', 'yo', 'lassst']\n"
     ]
    }
   ],
   "source": [
    "# append    => appends in the last\n",
    "# we can use list and append function to implemant stack and queue\n",
    "myList.append('lassst')\n",
    "print(myList)"
   ]
  },
  {
   "cell_type": "code",
   "execution_count": 35,
   "metadata": {},
   "outputs": [
    {
     "name": "stdout",
     "output_type": "stream",
     "text": [
      "['hellooo', 2, 'yes', 10.89, True, 'no', 'yo', 'lassst']\n"
     ]
    }
   ],
   "source": [
    "#insert    => adds item in a particular index place, rest of the elements just shift to the next\n",
    "myList.insert(2, 'yes')\n",
    "print(myList)"
   ]
  },
  {
   "cell_type": "code",
   "execution_count": 36,
   "metadata": {},
   "outputs": [
    {
     "name": "stdout",
     "output_type": "stream",
     "text": [
      "['hellooo', 2, 'yes', True, 'no', 'yo', 'lassst']\n"
     ]
    }
   ],
   "source": [
    "# remove   => remove a particular item \n",
    "myList.remove(10.89)\n",
    "print(myList)"
   ]
  },
  {
   "cell_type": "code",
   "execution_count": 37,
   "metadata": {},
   "outputs": [
    {
     "name": "stdout",
     "output_type": "stream",
     "text": [
      "['hellooo', 2, 'yes', True, 'no', 'yo', 'lassst']\n"
     ]
    }
   ],
   "source": [
    "# copy()   => clone a list by copying the items from the original list and returns them. hence it has to be store in a variable\n",
    "copiedList = myList.copy()\n",
    "print(copiedList)"
   ]
  },
  {
   "cell_type": "code",
   "execution_count": 39,
   "metadata": {},
   "outputs": [
    {
     "name": "stdout",
     "output_type": "stream",
     "text": [
      "[['prashant', 'jha'], ['85.56'], [402, 'yyy']]\n",
      "prashant\n",
      "jha\n",
      "402\n"
     ]
    }
   ],
   "source": [
    "# nested lists     => matrix\n",
    "myList = [['prashant', 'jha'], ['85.56'], [402, 'yyy']]\n",
    "print(myList)\n",
    "# print(myList[row][col])\n",
    "print(myList[0][0])\n",
    "print(myList[0][1])\n",
    "# print(myList[1][1])    # list index out of range\n",
    "print(myList[2][0])"
   ]
  },
  {
   "cell_type": "code",
   "execution_count": 41,
   "metadata": {},
   "outputs": [
    {
     "name": "stdout",
     "output_type": "stream",
     "text": [
      "['prashant', 'jha', 'prashant', 'jha']\n"
     ]
    }
   ],
   "source": [
    "list1 = ['prashant', 'jha']\n",
    "print(list1 * 2)      # => ['prashant', 'jha', 'prashant', 'jha']"
   ]
  },
  {
   "cell_type": "code",
   "execution_count": 44,
   "metadata": {},
   "outputs": [
    {
     "name": "stdout",
     "output_type": "stream",
     "text": [
      "['prashant', 'jha', 50, 25.5]\n"
     ]
    }
   ],
   "source": [
    "list2 = [50, 25.5]\n",
    "print(list1 + list2)    # ['prashant', 'jha', 50, 25.5]    join the 2 lists"
   ]
  },
  {
   "cell_type": "code",
   "execution_count": 48,
   "metadata": {},
   "outputs": [
    {
     "name": "stdout",
     "output_type": "stream",
     "text": [
      "[50, 'prashant']\n"
     ]
    }
   ],
   "source": [
    "# del \n",
    "list2 = [50, 25.8, 'prashant']\n",
    "del list2[1]\n",
    "print(list2)"
   ]
  },
  {
   "cell_type": "markdown",
   "metadata": {},
   "source": [
    "> we can also delete entire list"
   ]
  },
  {
   "cell_type": "code",
   "execution_count": 49,
   "metadata": {},
   "outputs": [],
   "source": [
    "del list2\n",
    "# print(list2)     # name 'list2' is not defined"
   ]
  },
  {
   "cell_type": "code",
   "execution_count": 50,
   "metadata": {},
   "outputs": [
    {
     "name": "stdout",
     "output_type": "stream",
     "text": [
      "[]\n"
     ]
    }
   ],
   "source": [
    "# clear function  ===> to clear all the objects from the list, it will give you empty list\n",
    "list2 = [50, 25.4, 'prashant']\n",
    "list2.clear()\n",
    "print(list2)"
   ]
  },
  {
   "cell_type": "code",
   "execution_count": null,
   "metadata": {},
   "outputs": [],
   "source": []
  },
  {
   "cell_type": "code",
   "execution_count": 56,
   "metadata": {},
   "outputs": [
    {
     "name": "stdout",
     "output_type": "stream",
     "text": [
      "prashant\n",
      "['p', 'r', 'a', 's', 'h', 'a', 'n', 't']\n"
     ]
    }
   ],
   "source": [
    "# type cast string to list    => using list() function \n",
    "name = 'prashant'\n",
    "print(name)\n",
    "\n",
    "myNameList = list(name)\n",
    "print(myNameList)    # ['p', 'r', 'a', 's', 'h', 'a', 'n', 't']"
   ]
  },
  {
   "cell_type": "code",
   "execution_count": 57,
   "metadata": {},
   "outputs": [
    {
     "name": "stdout",
     "output_type": "stream",
     "text": [
      "['t', 'n', 'a', 'h', 's', 'a', 'r', 'p']\n",
      "['t', 'n', 'a', 'h', 's', 'a', 'r', 'p']\n"
     ]
    }
   ],
   "source": [
    "# reverse \n",
    "myNameList.reverse()\n",
    "print(myNameList)\n",
    "\n",
    "# or using -1 \n",
    "myName = ['p', 'r', 'a', 's', 'h', 'a', 'n', 't']\n",
    "print(myName[::-1])"
   ]
  },
  {
   "cell_type": "markdown",
   "metadata": {},
   "source": [
    "> SORTING : default order is ascending, or alphabetical. \n",
    "Note = list must contain homogeneous data otherwise we will get typeerror"
   ]
  },
  {
   "cell_type": "code",
   "execution_count": 59,
   "metadata": {},
   "outputs": [
    {
     "name": "stdout",
     "output_type": "stream",
     "text": [
      "[0, 9, 22, 44, 77, 88]\n"
     ]
    }
   ],
   "source": [
    "myList = [44, 22, 77, 0, 9, 88]\n",
    "myList.sort()\n",
    "print(myList)"
   ]
  },
  {
   "cell_type": "markdown",
   "metadata": {},
   "source": [
    "> ALISING : assigning one variable refernce to another;  address will be same for original and alise; both point to same memory;     any changes in alise then it will be affected in original too"
   ]
  },
  {
   "cell_type": "code",
   "execution_count": 62,
   "metadata": {},
   "outputs": [
    {
     "name": "stdout",
     "output_type": "stream",
     "text": [
      "1918780811136\n",
      "1918780811136\n",
      "original: [0, 6, 4, 18, 9, 'new_item']\n"
     ]
    }
   ],
   "source": [
    "myList = [0, 6, 4, 18, 9]\n",
    "newList = myList\n",
    "print(id(myList))\n",
    "print(id(newList))\n",
    "\n",
    "newList.append('new_item')\n",
    "print(f'original: {myList}')"
   ]
  },
  {
   "cell_type": "code",
   "execution_count": 64,
   "metadata": {},
   "outputs": [
    {
     "name": "stdout",
     "output_type": "stream",
     "text": [
      "2\n",
      "2\n",
      "2\n",
      "1\n"
     ]
    }
   ],
   "source": [
    "# count\n",
    "myList = [0, 6, 'amruta', 18, 9.9, 0, 3, 6, 3, 3, 18.0]\n",
    "print(myList.count(0))\n",
    "print(myList.count(18))       # counts 18 and 18.0 as same s count=2\n",
    "print(myList.count(6))\n",
    "print(myList.count('amruta'))\n"
   ]
  },
  {
   "cell_type": "markdown",
   "metadata": {},
   "source": [
    "******************** QUESTIONS ********************"
   ]
  },
  {
   "cell_type": "code",
   "execution_count": 67,
   "metadata": {},
   "outputs": [
    {
     "name": "stdout",
     "output_type": "stream",
     "text": [
      "not a palindrome\n"
     ]
    }
   ],
   "source": [
    "# Q) check if string is palindrome\n",
    "string = input(\"enter a string: \")\n",
    "if string == string[::-1]:\n",
    "    print(\"it is palindrome\")\n",
    "else:\n",
    "    print(\"not a palindrome\")"
   ]
  },
  {
   "cell_type": "code",
   "execution_count": null,
   "metadata": {},
   "outputs": [
    {
     "name": "stdout",
     "output_type": "stream",
     "text": [
      "not a palindrome\n",
      "not a palindrome\n",
      "not a palindrome\n",
      "not a palindrome\n"
     ]
    }
   ],
   "source": [
    "# Q) check if string is palindrome          # racecar\n",
    "string = input(\"enter a string: \")\n",
    "for i in range(len(string)):\n",
    "    if string[i] == string[-1*(i+1)]:\n",
    "        print(\"it is palindrome\")\n",
    "    else:\n",
    "        print(\"not a palindrome\")"
   ]
  },
  {
   "cell_type": "code",
   "execution_count": 73,
   "metadata": {},
   "outputs": [
    {
     "name": "stdout",
     "output_type": "stream",
     "text": [
      "4\n"
     ]
    }
   ],
   "source": [
    "# Q) find the first non repeating element in a list\n",
    "myList = [1,2,2,1,4,5]\n",
    "for i in myList:\n",
    "    if myList.count(i) == 1:\n",
    "        print(i)\n",
    "        break"
   ]
  },
  {
   "cell_type": "code",
   "execution_count": 84,
   "metadata": {},
   "outputs": [
    {
     "name": "stdout",
     "output_type": "stream",
     "text": [
      "[1, 3, 4, 2]\n"
     ]
    }
   ],
   "source": [
    "# Q) remove all duplicate values from a list\n",
    "myList = [1,2,2,3,4,2]\n",
    "for i in myList:\n",
    "    if myList.count(i) !=1:\n",
    "        myList.remove(i)     # this prints 2 coz at the end there is one 2 left so its count is 1 so it prints\n",
    "print(myList)"
   ]
  },
  {
   "cell_type": "code",
   "execution_count": 109,
   "metadata": {},
   "outputs": [
    {
     "name": "stdout",
     "output_type": "stream",
     "text": [
      "[1, 3, 4]\n"
     ]
    }
   ],
   "source": [
    "# Q) remove all duplicate values from a list     ---- TRY ----    --- DONE YAY !---\n",
    "myList = [1,2,2,3,4,2]\n",
    "start = len(myList)\n",
    "for i in myList:\n",
    "    if myList.count(i) == 1:\n",
    "        myList.append(i)\n",
    "print(myList[start: ])\n",
    "        \n"
   ]
  },
  {
   "cell_type": "code",
   "execution_count": null,
   "metadata": {},
   "outputs": [],
   "source": [
    "# find common elements from 2 lists   => check photo in gallery"
   ]
  },
  {
   "cell_type": "code",
   "execution_count": 129,
   "metadata": {},
   "outputs": [
    {
     "name": "stdout",
     "output_type": "stream",
     "text": [
      "[2, 3, 4]\n"
     ]
    }
   ],
   "source": [
    "#Q) maximum consecutiove ones   ---- TRY ----\n",
    "myList = [1,1,0,1,1,1,0,1,1,1,1] \n",
    "newList = []\n",
    "count = 0\n",
    "for i in myList:\n",
    "    if i == 1:\n",
    "        count +=1\n",
    "    else:\n",
    "        newList.append(count)\n",
    "        count = 0\n",
    "newList.append(count)\n",
    "print(newList)\n"
   ]
  },
  {
   "cell_type": "code",
   "execution_count": 131,
   "metadata": {},
   "outputs": [
    {
     "name": "stdout",
     "output_type": "stream",
     "text": [
      "[3]\n"
     ]
    }
   ],
   "source": [
    "# Q) find intersection of three arrays\n",
    "list1 = [1,2,3]\n",
    "list2 = [5,4,3]\n",
    "list3 = [9,8,3]\n",
    "intersection = []\n",
    "for i in list1:\n",
    "    if (i in list2) and (i in list3):\n",
    "        intersection.append(i)\n",
    "print(intersection)\n"
   ]
  },
  {
   "cell_type": "code",
   "execution_count": 132,
   "metadata": {},
   "outputs": [
    {
     "name": "stdout",
     "output_type": "stream",
     "text": [
      "[1, 3, 12, 0, 0]\n"
     ]
    }
   ],
   "source": [
    "# Q) move zeros to the end w/o creating new list\n",
    "myList = [0,1,0,3,12]\n",
    "# op => [1,3,12,0,0]\n",
    "\n",
    "for i in myList:\n",
    "    if i == 0:\n",
    "        myList.remove(i)   # here it is only removed form myList it is still in i\n",
    "        myList.append(i)\n",
    "print(myList)"
   ]
  },
  {
   "cell_type": "code",
   "execution_count": 141,
   "metadata": {},
   "outputs": [
    {
     "name": "stdout",
     "output_type": "stream",
     "text": [
      "anagram\n"
     ]
    }
   ],
   "source": [
    "# Q) check if two strings are anagrams\n",
    "str1 = 'listen'\n",
    "str2 = 'silent'\n",
    "count = 0\n",
    "for i in str1:\n",
    "    if i in str2:\n",
    "        count +=1\n",
    "if count == len(str1) and count == len(str2):\n",
    "    print(\"anagram\")\n",
    "else:\n",
    "    print(\"not anagram\")\n"
   ]
  },
  {
   "cell_type": "code",
   "execution_count": null,
   "metadata": {},
   "outputs": [
    {
     "ename": "AttributeError",
     "evalue": "'list' object has no attribute 'join'",
     "output_type": "error",
     "traceback": [
      "\u001b[1;31m---------------------------------------------------------------------------\u001b[0m",
      "\u001b[1;31mAttributeError\u001b[0m                            Traceback (most recent call last)",
      "Cell \u001b[1;32mIn[147], line 4\u001b[0m\n\u001b[0;32m      2\u001b[0m string \u001b[38;5;241m=\u001b[39m \u001b[38;5;124m\"\u001b[39m\u001b[38;5;124mThis is a good morning Thane\u001b[39m\u001b[38;5;124m\"\u001b[39m\n\u001b[0;32m      3\u001b[0m lowerStr \u001b[38;5;241m=\u001b[39m string\u001b[38;5;241m.\u001b[39mlower()\n\u001b[1;32m----> 4\u001b[0m lowerStr \u001b[38;5;241m=\u001b[39m lowerStr\u001b[38;5;241m.\u001b[39msplit(\u001b[38;5;124m\"\u001b[39m\u001b[38;5;124m \u001b[39m\u001b[38;5;124m\"\u001b[39m)\u001b[38;5;241m.\u001b[39mjoin(\u001b[38;5;124m\"\u001b[39m\u001b[38;5;124m\"\u001b[39m)\n\u001b[0;32m      5\u001b[0m \u001b[38;5;28mprint\u001b[39m(lowerStr)\n",
      "\u001b[1;31mAttributeError\u001b[0m: 'list' object has no attribute 'join'"
     ]
    }
   ],
   "source": [
    "# Q) panagram ==> if in a string all the characters from A-Z 26 alphabets are present    --- TRY --- ascii code\n",
    "string = \"This is a good morning Thane\"\n",
    "lowerStr = string.lower()\n",
    "lowerStr = lowerStr.split(\" \")\n",
    "print(lowerStr)\n",
    "\n",
    "# if len(lowerStr) == 26:\n",
    "\n"
   ]
  },
  {
   "cell_type": "code",
   "execution_count": 160,
   "metadata": {},
   "outputs": [
    {
     "name": "stdout",
     "output_type": "stream",
     "text": [
      "4\n"
     ]
    }
   ],
   "source": [
    "# Q) count no.of occurences of a given substring    --- TRY ---\n",
    "strInput = 'abababaab'\n",
    "susbstrInput = 'ab'\n",
    "print(strInput.count(susbstrInput))"
   ]
  },
  {
   "cell_type": "code",
   "execution_count": 165,
   "metadata": {},
   "outputs": [
    {
     "name": "stdout",
     "output_type": "stream",
     "text": [
      "a3a3a3b3b3b3c4c4c4c4"
     ]
    }
   ],
   "source": [
    "# Q) compress a string by replacing consecutive characters with their counts\n",
    "string = 'aaabbbcccc'\n",
    "# op => 'a3b3c4'\n",
    "new = ''\n",
    "\n",
    "for i in range(len(string)):\n",
    "    j=i+1\n",
    "    count = 0 \n",
    "    # new = ''\n",
    "    for j in range(len(string)):\n",
    "        if string[i] == string[j]:\n",
    "            count +=1\n",
    "    \n",
    "    print(f\"{string[i]}{count}\", end='')\n"
   ]
  },
  {
   "cell_type": "code",
   "execution_count": null,
   "metadata": {},
   "outputs": [],
   "source": []
  },
  {
   "cell_type": "code",
   "execution_count": 4,
   "metadata": {},
   "outputs": [
    {
     "name": "stdout",
     "output_type": "stream",
     "text": [
      "['2', '3', '0', '3', '0', '2']\n",
      "3\n"
     ]
    }
   ],
   "source": [
    "# security key is count of repeating digits in data      --- TRY ---\n",
    "# ip => 578378923\n",
    "# op => 3\n",
    "# repeated are 7,8,3 hence op is 3\n",
    "\n",
    "string = input()\n",
    "strList = list(map(int,string.split()))\n",
    "duplicates = []\n",
    "\n",
    "for i in strList:\n",
    "    if strList.count(i) > 1:\n",
    "        duplicates.append(i)\n",
    "print(duplicates)    \n",
    "\n",
    "indiDuplicate = []\n",
    "for i in duplicates:\n",
    "    if i not in indiDuplicate:\n",
    "        indiDuplicate.append(i)\n",
    "print(len(indiDuplicate))"
   ]
  },
  {
   "cell_type": "markdown",
   "metadata": {},
   "source": [
    "> ."
   ]
  },
  {
   "cell_type": "code",
   "execution_count": 23,
   "metadata": {},
   "outputs": [
    {
     "name": "stdout",
     "output_type": "stream",
     "text": [
      "1 1 1 \n",
      "2 2 2 \n",
      "3 3 3 \n"
     ]
    }
   ],
   "source": [
    "for i in range(1,4):    #outer loop = row\n",
    "    for j in range(1,4):    #inner loop = column\n",
    "        print(i, end=' ')\n",
    "    print()"
   ]
  },
  {
   "cell_type": "code",
   "execution_count": 25,
   "metadata": {},
   "outputs": [
    {
     "name": "stdout",
     "output_type": "stream",
     "text": [
      "A B C D E \n",
      "A B C D \n",
      "A B C \n",
      "A B \n",
      "A \n"
     ]
    }
   ],
   "source": [
    "n = int(input())\n",
    "for i in range(1, n+1):\n",
    "    for j in range(1, n+2-i):\n",
    "        print(chr(64+j), end=' ')\n",
    "    print()\n"
   ]
  },
  {
   "cell_type": "code",
   "execution_count": 26,
   "metadata": {},
   "outputs": [
    {
     "name": "stdout",
     "output_type": "stream",
     "text": [
      "A \n",
      "B B \n",
      "C C C \n",
      "D D D D \n",
      "E E E E E \n"
     ]
    }
   ],
   "source": [
    "n = int(input())\n",
    "for i in range(1, n+1):\n",
    "    for j in range(1, 1+i):\n",
    "        print(chr(64+i), end=' ')\n",
    "    print()"
   ]
  },
  {
   "cell_type": "code",
   "execution_count": null,
   "metadata": {},
   "outputs": [
    {
     "name": "stdout",
     "output_type": "stream",
     "text": [
      "A \n",
      "A B \n",
      "A B C \n",
      "A B C D \n",
      "A B C \n",
      "A B \n",
      "A \n",
      "\n"
     ]
    }
   ],
   "source": [
    "n = int(input())    #5\n",
    "for i in range(1, n):\n",
    "    for j in range(1, i+1):\n",
    "        print(chr(64+j), end=' ')\n",
    "    print()\n",
    "for i in range(1, n):\n",
    "    for j in range(1, n-i):\n",
    "        print(chr(64+j), end=' ')\n",
    "    print()"
   ]
  },
  {
   "cell_type": "code",
   "execution_count": 37,
   "metadata": {},
   "outputs": [
    {
     "name": "stdout",
     "output_type": "stream",
     "text": [
      "A \n",
      "A B \n",
      "A B C \n",
      "A B C D \n",
      "A B C D \n",
      "A B C \n",
      "A B \n",
      "A \n",
      "\n"
     ]
    }
   ],
   "source": [
    "n = int(input())    #5\n",
    "for i in range(1, n):\n",
    "    for j in range(1, i+1):\n",
    "        print(chr(64+j), end=' ')\n",
    "    print()\n",
    "for i in range(1, n+1):\n",
    "    for j in range(1, n+1-i):\n",
    "        print(chr(64+j), end=' ')\n",
    "    print()"
   ]
  },
  {
   "cell_type": "code",
   "execution_count": 43,
   "metadata": {},
   "outputs": [
    {
     "ename": "ValueError",
     "evalue": "attempt to assign sequence of size 6 to extended slice of size 5",
     "output_type": "error",
     "traceback": [
      "\u001b[1;31m---------------------------------------------------------------------------\u001b[0m",
      "\u001b[1;31mValueError\u001b[0m                                Traceback (most recent call last)",
      "Cell \u001b[1;32mIn[43], line 2\u001b[0m\n\u001b[0;32m      1\u001b[0m a \u001b[38;5;241m=\u001b[39m [\u001b[38;5;241m1\u001b[39m,\u001b[38;5;241m2\u001b[39m,\u001b[38;5;241m3\u001b[39m,\u001b[38;5;241m4\u001b[39m,\u001b[38;5;241m5\u001b[39m,\u001b[38;5;241m6\u001b[39m,\u001b[38;5;241m7\u001b[39m,\u001b[38;5;241m8\u001b[39m,\u001b[38;5;241m9\u001b[39m]\n\u001b[1;32m----> 2\u001b[0m a[::\u001b[38;5;241m2\u001b[39m] \u001b[38;5;241m=\u001b[39m \u001b[38;5;241m10\u001b[39m,\u001b[38;5;241m20\u001b[39m,\u001b[38;5;241m30\u001b[39m,\u001b[38;5;241m40\u001b[39m,\u001b[38;5;241m50\u001b[39m,\u001b[38;5;241m60\u001b[39m\n\u001b[0;32m      3\u001b[0m \u001b[38;5;28mprint\u001b[39m(a)\n",
      "\u001b[1;31mValueError\u001b[0m: attempt to assign sequence of size 6 to extended slice of size 5"
     ]
    }
   ],
   "source": [
    "a = [1,2,3,4,5,6,7,8,9]\n",
    "a[::2] = 10,20,30,40,50,60\n",
    "print(a)"
   ]
  },
  {
   "cell_type": "code",
   "execution_count": 45,
   "metadata": {},
   "outputs": [
    {
     "name": "stdout",
     "output_type": "stream",
     "text": [
      "[3, 4, 5]\n"
     ]
    }
   ],
   "source": [
    "a = [1,2,3,4,5,6,7,8,9]\n",
    "print(a[2:5])"
   ]
  },
  {
   "cell_type": "code",
   "execution_count": 47,
   "metadata": {},
   "outputs": [
    {
     "name": "stdout",
     "output_type": "stream",
     "text": [
      "4\n",
      "7\n",
      "11\n",
      "15\n"
     ]
    }
   ],
   "source": [
    "arr = [[1,2,3,4], [4,5,6,7], [8,9,10,11], [12,13,14,15]]\n",
    "for i in range(0,4):\n",
    "    print(arr[i].pop())"
   ]
  },
  {
   "cell_type": "code",
   "execution_count": 48,
   "metadata": {},
   "outputs": [
    {
     "name": "stdout",
     "output_type": "stream",
     "text": [
      "[1]\n",
      "[1, 2]\n",
      "[1, 2, 3]\n"
     ]
    }
   ],
   "source": [
    "def func(i, values = []):\n",
    "    values.append(i)\n",
    "    print(values)\n",
    "\n",
    "func(1)\n",
    "func(2)\n",
    "func(3)"
   ]
  },
  {
   "cell_type": "code",
   "execution_count": 49,
   "metadata": {},
   "outputs": [
    {
     "name": "stdout",
     "output_type": "stream",
     "text": [
      "2 3 4 5 6 6 "
     ]
    }
   ],
   "source": [
    "arr = [1,2,3,4,5,6]\n",
    "for i in range(1,6):\n",
    "    arr[i-1] = arr[i]\n",
    "for i in range(0,6):\n",
    "    print(arr[i], end=\" \")"
   ]
  },
  {
   "cell_type": "code",
   "execution_count": 50,
   "metadata": {},
   "outputs": [
    {
     "name": "stdout",
     "output_type": "stream",
     "text": [
      "22\n"
     ]
    }
   ],
   "source": [
    "fruit_list1 = ['apple', 'berry', 'cherry', 'papaya']\n",
    "fruit_list2 = fruit_list1\n",
    "fruit_list3 = fruit_list1[:]\n",
    "fruit_list2[0] ='guava'\n",
    "fruit_list3[1] = 'kiwi'\n",
    "\n",
    "sum = 0\n",
    "for ls in (fruit_list1, fruit_list2, fruit_list3):    # for loop to each list\n",
    "    if ls[0] == 'guava':\n",
    "        sum +=1\n",
    "    if ls[1] == 'kiwi':\n",
    "        sum +=20\n",
    "print(sum)"
   ]
  }
 ],
 "metadata": {
  "kernelspec": {
   "display_name": "base",
   "language": "python",
   "name": "python3"
  },
  "language_info": {
   "codemirror_mode": {
    "name": "ipython",
    "version": 3
   },
   "file_extension": ".py",
   "mimetype": "text/x-python",
   "name": "python",
   "nbconvert_exporter": "python",
   "pygments_lexer": "ipython3",
   "version": "3.12.4"
  }
 },
 "nbformat": 4,
 "nbformat_minor": 2
}
