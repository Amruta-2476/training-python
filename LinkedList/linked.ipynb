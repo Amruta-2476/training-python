{
 "cells": [
  {
   "cell_type": "code",
   "execution_count": null,
   "metadata": {},
   "outputs": [],
   "source": [
    "class College:\n",
    "    collegename = 'modern college'\n",
    "    def __init__(self):\n",
    "        self.studentname = 'prashant'\n",
    "\n",
    "principal = College()\n",
    "teacher = College()\n",
    "accountant = College()\n",
    "\n",
    "print('principal=',principal.collegename,'...',principal.studentname)\n",
    "print('teacher=',principal.collegename,'...',principal.studentname)\n",
    "print('accountant=',principal.collegename,'...',principal.studentname)\n",
    "\n",
    "College.collegename = 'HBD'\n"
   ]
  }
 ],
 "metadata": {
  "kernelspec": {
   "display_name": "base",
   "language": "python",
   "name": "python3"
  },
  "language_info": {
   "name": "python",
   "version": "3.12.4"
  }
 },
 "nbformat": 4,
 "nbformat_minor": 2
}
