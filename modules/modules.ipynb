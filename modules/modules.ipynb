{
 "cells": [
  {
   "cell_type": "markdown",
   "metadata": {},
   "source": [
    "> group of functions, variables, classes, saved in python as single file then it is called python module, an independent program in python are called as python module"
   ]
  },
  {
   "cell_type": "markdown",
   "metadata": {},
   "source": [
    "> using things from other module in your own"
   ]
  },
  {
   "cell_type": "markdown",
   "metadata": {},
   "source": [
    "user defined and predefined modules"
   ]
  },
  {
   "cell_type": "markdown",
   "metadata": {},
   "source": []
  }
 ],
 "metadata": {
  "language_info": {
   "name": "python"
  }
 },
 "nbformat": 4,
 "nbformat_minor": 2
}
