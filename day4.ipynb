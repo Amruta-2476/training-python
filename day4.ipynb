{
 "cells": [
  {
   "cell_type": "markdown",
   "metadata": {},
   "source": [
    "> DICTIONARY"
   ]
  },
  {
   "cell_type": "code",
   "execution_count": 30,
   "metadata": {},
   "outputs": [
    {
     "name": "stdout",
     "output_type": "stream",
     "text": [
      "{'name': 'amruta', 'profession': 'student', 'studentID': 1015}\n",
      "dict_items([('name', 'amruta'), ('profession', 'student'), ('studentID', 1015)])\n",
      "<class 'dict'>\n",
      "dict_values(['amruta', 'student', 1015])\n",
      "dict_keys(['name', 'profession', 'studentID'])\n"
     ]
    }
   ],
   "source": [
    "myDict1 = {\n",
    "    'name':'amruta',\n",
    "    'profession':'student',\n",
    "    'studentID': 1015\n",
    "}\n",
    "print(myDict1)\n",
    "print(myDict1.items())\n",
    "print(type(myDict1))\n",
    "print(myDict1.values())\n",
    "print(myDict1.keys())"
   ]
  },
  {
   "cell_type": "code",
   "execution_count": 31,
   "metadata": {},
   "outputs": [
    {
     "name": "stdout",
     "output_type": "stream",
     "text": [
      "{101: 'prashant', '101': 'riya'}\n"
     ]
    }
   ],
   "source": [
    "myDict = {\n",
    "    101: 'amruta',\n",
    "    '101': 'riya',         # this is taken coz types are different\n",
    "    101: 'prashant'       # it takes the last given value assigned to 101 key\n",
    "}\n",
    "print(myDict)"
   ]
  },
  {
   "cell_type": "code",
   "execution_count": 32,
   "metadata": {},
   "outputs": [
    {
     "name": "stdout",
     "output_type": "stream",
     "text": [
      "prashant\n"
     ]
    }
   ],
   "source": [
    "# print value, access value using key\n",
    "a = myDict[101]\n",
    "print(a)"
   ]
  },
  {
   "cell_type": "code",
   "execution_count": 33,
   "metadata": {},
   "outputs": [
    {
     "name": "stdout",
     "output_type": "stream",
     "text": [
      "{101: 'prashant', '101': 'this is a new string'}\n"
     ]
    }
   ],
   "source": [
    "# updating the values\n",
    "myDict['101'] = 'this is a new string'\n",
    "print(myDict)"
   ]
  },
  {
   "cell_type": "code",
   "execution_count": 34,
   "metadata": {},
   "outputs": [
    {
     "name": "stdout",
     "output_type": "stream",
     "text": [
      "{'101': 'this is a new string'}\n"
     ]
    }
   ],
   "source": [
    "# delete an item \n",
    "del(myDict[101])\n",
    "print(myDict)"
   ]
  },
  {
   "cell_type": "code",
   "execution_count": 35,
   "metadata": {},
   "outputs": [
    {
     "name": "stdout",
     "output_type": "stream",
     "text": [
      "name\n",
      "profession\n",
      "studentID\n"
     ]
    }
   ],
   "source": [
    "# print keys using for loop\n",
    "for x in myDict1:      # or for x in myDict1.keys()\n",
    "    print(x)"
   ]
  },
  {
   "cell_type": "code",
   "execution_count": 36,
   "metadata": {},
   "outputs": [
    {
     "name": "stdout",
     "output_type": "stream",
     "text": [
      "amruta\n",
      "student\n",
      "1015\n"
     ]
    }
   ],
   "source": [
    "# print values using for loop\n",
    "for x in myDict1.values():\n",
    "    print(x)"
   ]
  },
  {
   "cell_type": "code",
   "execution_count": 37,
   "metadata": {},
   "outputs": [
    {
     "name": "stdout",
     "output_type": "stream",
     "text": [
      "name amruta\n",
      "profession student\n",
      "studentID 1015\n"
     ]
    }
   ],
   "source": [
    "# print items using for loop\n",
    "for x,y in myDict1.items():\n",
    "    print(x, y)"
   ]
  },
  {
   "cell_type": "code",
   "execution_count": 38,
   "metadata": {},
   "outputs": [
    {
     "name": "stdout",
     "output_type": "stream",
     "text": [
      "('name', 'amruta')\n",
      "<class 'tuple'>\n",
      "('profession', 'student')\n",
      "<class 'tuple'>\n",
      "('studentID', 1015)\n",
      "<class 'tuple'>\n"
     ]
    }
   ],
   "source": [
    "# print items using for loop\n",
    "for x in myDict1.items():\n",
    "    print(x)\n",
    "    print(type(x))     #<class 'tuple'>"
   ]
  },
  {
   "cell_type": "code",
   "execution_count": 39,
   "metadata": {},
   "outputs": [
    {
     "name": "stdout",
     "output_type": "stream",
     "text": [
      "{'101': 'this is a new string'}\n",
      "{'101': 'this is a new string', 'mobile no': 9930094217}\n"
     ]
    }
   ],
   "source": [
    "# add new key:value pair\n",
    "print(myDict)\n",
    "myDict['mobile no'] = 9930094217\n",
    "print(myDict)"
   ]
  },
  {
   "cell_type": "code",
   "execution_count": 40,
   "metadata": {},
   "outputs": [
    {
     "name": "stdout",
     "output_type": "stream",
     "text": [
      "{'mobile no': 9930094217}\n"
     ]
    }
   ],
   "source": [
    "# remove an item\n",
    "myDict.pop('101')\n",
    "print(myDict)"
   ]
  },
  {
   "cell_type": "code",
   "execution_count": 43,
   "metadata": {},
   "outputs": [
    {
     "name": "stdout",
     "output_type": "stream",
     "text": [
      "{'name': 'amruta', 'profession': 'student', 'studentID': 1015}\n",
      "2047805122240\n",
      "{'name': 'amruta', 'profession': 'student', 'studentID': 1015}\n",
      "2047818923968\n"
     ]
    }
   ],
   "source": [
    "# copy => clone a dictionary\n",
    "newDict1 = myDict1.copy()\n",
    "print(newDict1)\n",
    "print(id(newDict1))\n",
    "print(myDict1)\n",
    "print(id(myDict1))"
   ]
  },
  {
   "cell_type": "markdown",
   "metadata": {},
   "source": [
    "> QUESTIONS: "
   ]
  },
  {
   "cell_type": "code",
   "execution_count": null,
   "metadata": {},
   "outputs": [
    {
     "name": "stdout",
     "output_type": "stream",
     "text": [
      "{'a': 3, 'b': 3, 'c': 4}\n"
     ]
    }
   ],
   "source": [
    "# Q) compress a string by replacing consecutive characters with their counts\n",
    "string = eval(input())     #'aaabbbcccc'\n",
    "# op => 'a3b3c4'\n",
    "\n",
    "dict = {}\n",
    "for i in string:\n",
    "    count = 0\n",
    "    if i in dict:\n",
    "        count +=1\n",
    "        dict[i] = count\n",
    "print(dict)\n",
    "\n"
   ]
  },
  {
   "cell_type": "code",
   "execution_count": 49,
   "metadata": {},
   "outputs": [
    {
     "name": "stdout",
     "output_type": "stream",
     "text": [
      "{'a': 2, 'b': 4, 'e': 4, 'f': 2, 'g': 3}\n",
      "a2b4e4f2g3"
     ]
    }
   ],
   "source": [
    "# Q) compress a string by replacing consecutive characters with their counts\n",
    "string = eval(input())\n",
    "# op => 'a3b3c4'\n",
    "\n",
    "dict = {}\n",
    "for i in range(len(string)):\n",
    "    key = string[i]\n",
    "    count = 0\n",
    "    for j in range(len(string)):\n",
    "        if key == string[j]:\n",
    "            count +=1\n",
    "    dict[key] = count\n",
    "print(dict)\n",
    "\n",
    "for i,j in dict.items():\n",
    "    print(i,j,sep='',end='')"
   ]
  },
  {
   "cell_type": "code",
   "execution_count": null,
   "metadata": {},
   "outputs": [
    {
     "name": "stdout",
     "output_type": "stream",
     "text": [
      "[10, 11, 7, 12, 14]\n",
      "12\n"
     ]
    }
   ],
   "source": [
    "# Q) WAP to calculate and return the sum of distances between the adjacent numbers in an array of +ve integers.\n",
    "# Input :\n",
    "# 5\n",
    "# 10 11 7 12 14\n",
    "# Output:\n",
    "# 12\n",
    "\n",
    "t = int(input())\n",
    "myList = []\n",
    "for i in range(t):\n",
    "    value = int(input())\n",
    "    myList.append(value)\n",
    "print(myList)\n",
    "\n",
    "# logic\n",
    "sum = 0\n",
    "for i in range(len(myList)):\n",
    "    if i+1 in range(len(myList)):\n",
    "        diff = myList[i] - myList[i+1]\n",
    "        if diff < 0:\n",
    "            diff = (-1 * diff)\n",
    "        sum = sum + diff\n",
    "print(sum)\n"
   ]
  },
  {
   "cell_type": "code",
   "execution_count": 67,
   "metadata": {},
   "outputs": [
    {
     "ename": "TypeError",
     "evalue": "unsupported operand type(s) for -: 'str' and 'str'",
     "output_type": "error",
     "traceback": [
      "\u001b[1;31m---------------------------------------------------------------------------\u001b[0m",
      "\u001b[1;31mTypeError\u001b[0m                                 Traceback (most recent call last)",
      "Cell \u001b[1;32mIn[67], line 10\u001b[0m\n\u001b[0;32m      8\u001b[0m \u001b[38;5;28;01mfor\u001b[39;00m i \u001b[38;5;129;01min\u001b[39;00m \u001b[38;5;28mrange\u001b[39m(\u001b[38;5;28mlen\u001b[39m(myList)):\n\u001b[0;32m      9\u001b[0m     \u001b[38;5;28;01mif\u001b[39;00m i\u001b[38;5;241m+\u001b[39m\u001b[38;5;241m1\u001b[39m \u001b[38;5;129;01min\u001b[39;00m \u001b[38;5;28mrange\u001b[39m(\u001b[38;5;28mlen\u001b[39m(myList)):\n\u001b[1;32m---> 10\u001b[0m         diff \u001b[38;5;241m=\u001b[39m myList[i] \u001b[38;5;241m-\u001b[39m myList[i\u001b[38;5;241m+\u001b[39m\u001b[38;5;241m1\u001b[39m]\n\u001b[0;32m     11\u001b[0m         \u001b[38;5;28;01mif\u001b[39;00m diff \u001b[38;5;241m<\u001b[39m \u001b[38;5;241m0\u001b[39m:\n\u001b[0;32m     12\u001b[0m             diff \u001b[38;5;241m=\u001b[39m (\u001b[38;5;241m-\u001b[39m\u001b[38;5;241m1\u001b[39m \u001b[38;5;241m*\u001b[39m diff)\n",
      "\u001b[1;31mTypeError\u001b[0m: unsupported operand type(s) for -: 'str' and 'str'"
     ]
    }
   ],
   "source": [
    "# to take input in one line \n",
    "t = int(input())\n",
    "# myList = []\n",
    "myList = eval(input())\n",
    "\n",
    "# logic\n",
    "sum = 0\n",
    "for i in range(len(myList)):\n",
    "    if i+1 in range(len(myList)):\n",
    "        diff = myList[i] - myList[i+1]\n",
    "        if diff < 0:\n",
    "            diff = (-1 * diff)\n",
    "        sum = sum + diff\n",
    "print(sum)"
   ]
  },
  {
   "cell_type": "code",
   "execution_count": 68,
   "metadata": {},
   "outputs": [
    {
     "name": "stdout",
     "output_type": "stream",
     "text": [
      "marks of amruta are 90\n",
      "end\n"
     ]
    }
   ],
   "source": [
    "# wap to acceps student name and marks from input create dictionary. also display student marks by taking student name as input\n",
    "\n",
    "t = int(input())\n",
    "myStudents = {}\n",
    "for i in range(t):\n",
    "    name = input('name: ')\n",
    "    marks = input('marks: ')\n",
    "    myStudents[name] = marks\n",
    "while True:\n",
    "    name = input('enter student name to get marks: ')\n",
    "    marks = myStudents.get(name, -1)    # check this\n",
    "    if marks == -1:\n",
    "        print('student not found')\n",
    "    else:\n",
    "        print(f'marks of {name} are {marks}')\n",
    "    option = input('find another student ? yes/no: ')\n",
    "    if option == 'no':\n",
    "        break\n",
    "print('end')"
   ]
  },
  {
   "cell_type": "code",
   "execution_count": 71,
   "metadata": {},
   "outputs": [
    {
     "name": "stdout",
     "output_type": "stream",
     "text": [
      "no\n"
     ]
    }
   ],
   "source": [
    "# cook your dish here\n",
    "t = int(input())\n",
    "\n",
    "def func(string):\n",
    "    for i in range(0, len(string), 2):\n",
    "        if string[i] == string[i+1]:\n",
    "            return False\n",
    "    return True\n",
    "\n",
    "for i in range(t):\n",
    "    str = input()\n",
    "    if func(str):\n",
    "        print('yes')\n",
    "    else:\n",
    "        print('no')"
   ]
  },
  {
   "cell_type": "code",
   "execution_count": 78,
   "metadata": {},
   "outputs": [
    {
     "name": "stdout",
     "output_type": "stream",
     "text": [
      "{'A': 20, 'B': 10, 'C': 30}\n",
      "20\n",
      "10\n",
      "30\n",
      "0\n"
     ]
    }
   ],
   "source": [
    "# smallest value in dictionary \n",
    "# input : {'X':20, 'Y':10, 'Z':30}\n",
    "# op => 10\n",
    "str = eval(input())\n",
    "print(str)\n",
    "smallest = 0\n",
    "for i in str.values():\n",
    "    if i < smallest:\n",
    "        smallest = i\n",
    "    else:\n",
    "        continue\n",
    "print(smallest)\n"
   ]
  },
  {
   "cell_type": "code",
   "execution_count": null,
   "metadata": {},
   "outputs": [
    {
     "name": "stdout",
     "output_type": "stream",
     "text": [
      "{'A': 1, 'B': 2, 'C': 3}\n",
      "dict_values([1, 2, 3])\n",
      "3\n"
     ]
    }
   ],
   "source": [
    "# count no.of key and value pairs\n",
    "str = eval(input())\n",
    "print(str)\n",
    "# print(str.values())\n",
    "print(len(str.values()))"
   ]
  },
  {
   "cell_type": "code",
   "execution_count": 80,
   "metadata": {},
   "outputs": [
    {
     "name": "stdout",
     "output_type": "stream",
     "text": [
      "{'A': 1, 'B': '', 'C': 3, 'D': None, 'E': 'Five'}\n",
      "2\n"
     ]
    }
   ],
   "source": [
    "# count the no.of non empty values in a dictionary \n",
    "# \n",
    "str = eval(input())\n",
    "print(str)\n",
    "\n",
    "count = 0\n",
    "for i in str.values():\n",
    "    if i == '' or i == None:\n",
    "        count +=1\n",
    "print(count)\n",
    "\n"
   ]
  },
  {
   "cell_type": "code",
   "execution_count": null,
   "metadata": {},
   "outputs": [
    {
     "name": "stdout",
     "output_type": "stream",
     "text": [
      "{'C': 3, 'B': 2, 'A': 1}\n",
      "[('A', 1), ('B', 2), ('C', 3)]\n"
     ]
    }
   ],
   "source": [
    "# sort dictionary by key and value       ---------------- TRY ------------------------\n",
    "str = eval(input())\n",
    "print(str)\n",
    "\n",
    "keySort = {}\n",
    "keySort = sorted(str.items())\n",
    "print(keySort)\n"
   ]
  },
  {
   "cell_type": "markdown",
   "metadata": {},
   "source": [
    "> DICTIONARY COMPREHENSION"
   ]
  },
  {
   "cell_type": "code",
   "execution_count": 85,
   "metadata": {},
   "outputs": [
    {
     "name": "stdout",
     "output_type": "stream",
     "text": [
      "{1: 1, 2: 4, 3: 9, 4: 16, 5: 25}\n"
     ]
    }
   ],
   "source": [
    "squares = {x : x*x for x in range(1,6)}\n",
    "print(squares)"
   ]
  },
  {
   "cell_type": "markdown",
   "metadata": {},
   "source": [
    "> operation precedence"
   ]
  },
  {
   "cell_type": "code",
   "execution_count": 87,
   "metadata": {},
   "outputs": [
    {
     "name": "stdout",
     "output_type": "stream",
     "text": [
      "65\n",
      "45\n"
     ]
    }
   ],
   "source": [
    "print(5+20*3)\n",
    "print((5+10)*3)"
   ]
  },
  {
   "cell_type": "code",
   "execution_count": 88,
   "metadata": {},
   "outputs": [
    {
     "name": "stdout",
     "output_type": "stream",
     "text": [
      "160.0\n",
      "40.0\n",
      "110.0\n"
     ]
    }
   ],
   "source": [
    "a = 50\n",
    "b = 30\n",
    "c = 20\n",
    "d = 10\n",
    "print((a+b)*c/d)\n",
    "print((a-b)*(c/d))\n",
    "print(a+(b*c)/d)"
   ]
  },
  {
   "cell_type": "markdown",
   "metadata": {},
   "source": [
    "> LIST COMPREHENSION   => to enter input in one line"
   ]
  },
  {
   "cell_type": "code",
   "execution_count": 89,
   "metadata": {},
   "outputs": [
    {
     "name": "stdout",
     "output_type": "stream",
     "text": [
      "6\n"
     ]
    }
   ],
   "source": [
    "a,b = [int(x) for x in input('enter 2 numbers: ').split()]\n",
    "print(a*b)\n",
    "\n",
    "# check how to do this in java"
   ]
  },
  {
   "cell_type": "code",
   "execution_count": 90,
   "metadata": {},
   "outputs": [
    {
     "name": "stdout",
     "output_type": "stream",
     "text": [
      "[1, 2, 3]\n",
      "[123]\n",
      "[123]\n"
     ]
    }
   ],
   "source": [
    "t = int(input())\n",
    "for i in range(t):\n",
    "    i = [int(x) for x in input(f'enter {t} numbers: ').split()]\n",
    "    print(i)"
   ]
  },
  {
   "cell_type": "markdown",
   "metadata": {},
   "source": [
    "> replace "
   ]
  },
  {
   "cell_type": "code",
   "execution_count": 93,
   "metadata": {},
   "outputs": [
    {
     "name": "stdout",
     "output_type": "stream",
     "text": [
      "AAbbabAAaba\n"
     ]
    }
   ],
   "source": [
    "str = 'aabbabaaaba'\n",
    "print(str.replace('aa', 'AA'))"
   ]
  },
  {
   "cell_type": "markdown",
   "metadata": {},
   "source": [
    "> tuple"
   ]
  },
  {
   "cell_type": "code",
   "execution_count": 96,
   "metadata": {},
   "outputs": [
    {
     "name": "stdout",
     "output_type": "stream",
     "text": [
      "('prashant', 20, 'sunil', 30, True)\n"
     ]
    }
   ],
   "source": [
    "myTuple = ('prashant', 20, 'sunil', 30, True)\n",
    "# myTuple[2] = 'Sushil'    #'tuple' object does not support item assignment\n",
    "print(myTuple)"
   ]
  },
  {
   "cell_type": "markdown",
   "metadata": {},
   "source": [
    "> to perform any operation on tuple, convert into list first, then back to tuple"
   ]
  },
  {
   "cell_type": "code",
   "execution_count": 97,
   "metadata": {},
   "outputs": [
    {
     "name": "stdout",
     "output_type": "stream",
     "text": [
      "('prashant', 20, 'sunil', 30, True, 12, 30, 40, 50)\n"
     ]
    }
   ],
   "source": [
    "myTuple2 = 12, 30, 40, 50\n",
    "print(myTuple + myTuple2)"
   ]
  },
  {
   "cell_type": "code",
   "execution_count": 101,
   "metadata": {},
   "outputs": [
    {
     "name": "stdout",
     "output_type": "stream",
     "text": [
      "0\n",
      "0\n"
     ]
    }
   ],
   "source": [
    "myTup = ()  \n",
    "print(myTup.__len__())    # 0\n",
    "print(len(myTup))   # 0"
   ]
  },
  {
   "cell_type": "code",
   "execution_count": 103,
   "metadata": {},
   "outputs": [
    {
     "name": "stdout",
     "output_type": "stream",
     "text": [
      "True\n"
     ]
    }
   ],
   "source": [
    "tup1 = 'a', 'b'\n",
    "tup2 = ('a', 'b')\n",
    "print(tup1 == tup2)    # True bcoz it doesnt matter if we put parentheses or not \n",
    "# it is the same thing "
   ]
  },
  {
   "cell_type": "code",
   "execution_count": 107,
   "metadata": {},
   "outputs": [
    {
     "ename": "TypeError",
     "evalue": "'int' object is not callable",
     "output_type": "error",
     "traceback": [
      "\u001b[1;31m---------------------------------------------------------------------------\u001b[0m",
      "\u001b[1;31mTypeError\u001b[0m                                 Traceback (most recent call last)",
      "Cell \u001b[1;32mIn[107], line 3\u001b[0m\n\u001b[0;32m      1\u001b[0m myTuple1 \u001b[38;5;241m=\u001b[39m \u001b[38;5;241m1\u001b[39m,\u001b[38;5;241m2\u001b[39m\n\u001b[0;32m      2\u001b[0m myTuple2 \u001b[38;5;241m=\u001b[39m (\u001b[38;5;241m3\u001b[39m,\u001b[38;5;241m4\u001b[39m)\n\u001b[1;32m----> 3\u001b[0m [\u001b[38;5;28mprint\u001b[39m(\u001b[38;5;28msum\u001b[39m(x)) \u001b[38;5;28;01mfor\u001b[39;00m x \u001b[38;5;129;01min\u001b[39;00m [myTuple1 \u001b[38;5;241m+\u001b[39m myTuple2]]\n",
      "\u001b[1;31mTypeError\u001b[0m: 'int' object is not callable"
     ]
    }
   ],
   "source": [
    "myTuple1 = 1,2\n",
    "myTuple2 = (3,4)\n",
    "[print(sum(x)) for x in [myTuple1 + myTuple2]]"
   ]
  },
  {
   "cell_type": "code",
   "execution_count": 110,
   "metadata": {},
   "outputs": [
    {
     "ename": "TypeError",
     "evalue": "'int' object is not callable",
     "output_type": "error",
     "traceback": [
      "\u001b[1;31m---------------------------------------------------------------------------\u001b[0m",
      "\u001b[1;31mTypeError\u001b[0m                                 Traceback (most recent call last)",
      "Cell \u001b[1;32mIn[110], line 2\u001b[0m\n\u001b[0;32m      1\u001b[0m init_tuple \u001b[38;5;241m=\u001b[39m [(\u001b[38;5;241m0\u001b[39m, \u001b[38;5;241m1\u001b[39m), (\u001b[38;5;241m1\u001b[39m, \u001b[38;5;241m2\u001b[39m), (\u001b[38;5;241m2\u001b[39m, \u001b[38;5;241m3\u001b[39m)]\n\u001b[1;32m----> 2\u001b[0m result \u001b[38;5;241m=\u001b[39m \u001b[38;5;28msum\u001b[39m(n \u001b[38;5;28;01mfor\u001b[39;00m _, n \u001b[38;5;129;01min\u001b[39;00m init_tuple)\n\u001b[0;32m      3\u001b[0m \u001b[38;5;28mprint\u001b[39m(result)\n",
      "\u001b[1;31mTypeError\u001b[0m: 'int' object is not callable"
     ]
    }
   ],
   "source": [
    "init_tuple = [(0, 1), (1, 2), (2, 3)]\n",
    "result = sum(n for _, n in init_tuple)\n",
    "print(result)"
   ]
  },
  {
   "cell_type": "code",
   "execution_count": null,
   "metadata": {},
   "outputs": [],
   "source": []
  }
 ],
 "metadata": {
  "kernelspec": {
   "display_name": "base",
   "language": "python",
   "name": "python3"
  },
  "language_info": {
   "codemirror_mode": {
    "name": "ipython",
    "version": 3
   },
   "file_extension": ".py",
   "mimetype": "text/x-python",
   "name": "python",
   "nbconvert_exporter": "python",
   "pygments_lexer": "ipython3",
   "version": "3.12.4"
  }
 },
 "nbformat": 4,
 "nbformat_minor": 2
}
