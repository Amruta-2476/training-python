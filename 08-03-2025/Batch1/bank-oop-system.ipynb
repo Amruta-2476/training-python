{
 "cells": [
  {
   "cell_type": "code",
   "execution_count": null,
   "metadata": {},
   "outputs": [],
   "source": [
    "from abc import ABC, abstractmethod \n",
    "\n",
    "class Person():\n",
    "    def __init__(self, name, address, contactNum):\n",
    "        self.name = name\n",
    "        self.address = address\n",
    "        self.contactNum = contactNum\n",
    "    def get_details(self):\n",
    "        print(f'Name: {self.name}\\nAddress: {self.address}\\nContact No.: {self.contactNum}')\n",
    "\n",
    "class Account(ABC):   # abstract class\n",
    "    def __init__(self, account_number, balance, owner):\n",
    "        self.acccount_number = account_number\n",
    "        self.balance = balance\n",
    "        self.owner = owner    # check this later it says 'Customer object'\n",
    "    \n",
    "    @abstractmethod\n",
    "    def deposit(self, amount):\n",
    "        pass\n",
    "    def withdraw(self, amount):\n",
    "        pass\n",
    "    def get_balance(self):\n",
    "        return self.balance\n",
    "    def show_account_details():\n",
    "        print('--current acc details')\n",
    "  \n",
    "\n",
    "\n",
    "# derived classes\n",
    "class Customer(Person):\n",
    "    pass\n",
    "\n",
    "class Admin(Person):\n",
    "    def __init__(self, employee_id):\n",
    "        self.employee_id = employee_id\n",
    "    def approve_account(self):  # it says cutomer, account\n",
    "        pass \n",
    "    def view_all_customers(self):\n",
    "        pass\n",
    "        \n",
    "class SavingsAccount(Account):\n",
    "    pass\n",
    "\n",
    "class BusinessAccount(Account):\n",
    "    pass\n",
    "\n",
    "class Transaction():\n",
    "    pass\n",
    "class Bank():\n",
    "    pass"
   ]
  }
 ],
 "metadata": {
  "language_info": {
   "name": "python"
  }
 },
 "nbformat": 4,
 "nbformat_minor": 2
}
