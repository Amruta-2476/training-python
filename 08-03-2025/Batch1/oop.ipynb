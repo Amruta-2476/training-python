{
 "cells": [
  {
   "cell_type": "code",
   "execution_count": 1,
   "metadata": {},
   "outputs": [
    {
     "ename": "TypeError",
     "evalue": "Ex.add() missing 2 required positional arguments: 'b' and 'c'",
     "output_type": "error",
     "traceback": [
      "\u001b[1;31m---------------------------------------------------------------------------\u001b[0m",
      "\u001b[1;31mTypeError\u001b[0m                                 Traceback (most recent call last)",
      "Cell \u001b[1;32mIn[1], line 25\u001b[0m\n\u001b[0;32m     22\u001b[0m         \u001b[38;5;28mprint\u001b[39m(a\u001b[38;5;241m+\u001b[39mb\u001b[38;5;241m+\u001b[39mc)\n\u001b[0;32m     24\u001b[0m e1 \u001b[38;5;241m=\u001b[39m Ex()\n\u001b[1;32m---> 25\u001b[0m e1\u001b[38;5;241m.\u001b[39madd(\u001b[38;5;241m5\u001b[39m,)     \u001b[38;5;66;03m# TypeError: Ex.add() missing 2 required positional arguments: 'b' and 'c'\u001b[39;00m\n\u001b[0;32m     26\u001b[0m e1\u001b[38;5;241m.\u001b[39madd(\u001b[38;5;241m5\u001b[39m,\u001b[38;5;241m3\u001b[39m)\n\u001b[0;32m     27\u001b[0m e1\u001b[38;5;241m.\u001b[39madd(\u001b[38;5;241m5\u001b[39m,\u001b[38;5;241m3\u001b[39m,\u001b[38;5;241m6\u001b[39m)\n",
      "\u001b[1;31mTypeError\u001b[0m: Ex.add() missing 2 required positional arguments: 'b' and 'c'"
     ]
    }
   ],
   "source": [
    "# method overloading in python ....but this is bleh ..so look at java example in day-1.txt\n",
    "# class Ex:\n",
    "#     def add(self, a,b,c=None):\n",
    "#         if(c is None):\n",
    "#             print(a+b)\n",
    "#         else:\n",
    "#             print(a+b+c)\n",
    "# e1 = Ex()\n",
    "# e1.add(5,3)\n",
    "# e1.add(5,3,6)   \n",
    "\n",
    "\n",
    "\n",
    "\n",
    "# this is not allowed in python  **** important *** check this\n",
    "class Ex:\n",
    "    def add(self, a):\n",
    "        print(a)\n",
    "    def add(self, a,b):\n",
    "        print(a+b)\n",
    "    def add(self, a,b,c):\n",
    "        print(a+b+c)\n",
    "        \n",
    "e1 = Ex()\n",
    "e1.add(5,)     # TypeError: Ex.add() missing 2 required positional arguments: 'b' and 'c'\n",
    "e1.add(5,3)\n",
    "e1.add(5,3,6)   "
   ]
  },
  {
   "cell_type": "code",
   "execution_count": 4,
   "metadata": {},
   "outputs": [
    {
     "name": "stdout",
     "output_type": "stream",
     "text": [
      "3\n",
      "6\n"
     ]
    }
   ],
   "source": [
    "# to solve this problem, use *args, or default parameters\n",
    "class Ex:\n",
    "    def add(self, a=None, b=None, c=None):\n",
    "        if a!=None and b!=None and c==None:\n",
    "            print(a+b)\n",
    "        elif a!=None and b!=None and c!=None:\n",
    "            print(a+b+c)\n",
    "        else:\n",
    "            print('enter atleast 2 args')\n",
    "\n",
    "o = Ex()\n",
    "o.add(1,2)\n",
    "o.add(1,2,3)"
   ]
  },
  {
   "cell_type": "code",
   "execution_count": 5,
   "metadata": {},
   "outputs": [
    {
     "ename": "TypeError",
     "evalue": "Arithmetic.__init__() missing 2 required positional arguments: 'a' and 'b'",
     "output_type": "error",
     "traceback": [
      "\u001b[1;31m---------------------------------------------------------------------------\u001b[0m",
      "\u001b[1;31mTypeError\u001b[0m                                 Traceback (most recent call last)",
      "Cell \u001b[1;32mIn[5], line 12\u001b[0m\n\u001b[0;32m      9\u001b[0m     \u001b[38;5;28;01mdef\u001b[39;00m \u001b[38;5;21m__init__\u001b[39m(\u001b[38;5;28mself\u001b[39m,a,b):\n\u001b[0;32m     10\u001b[0m         \u001b[38;5;28mprint\u001b[39m(\u001b[38;5;124m'\u001b[39m\u001b[38;5;124m2 args\u001b[39m\u001b[38;5;124m'\u001b[39m)\n\u001b[1;32m---> 12\u001b[0m obj \u001b[38;5;241m=\u001b[39m Arithmetic()\n\u001b[0;32m     13\u001b[0m obj \u001b[38;5;241m=\u001b[39m Arithmetic(\u001b[38;5;241m10\u001b[39m)\n\u001b[0;32m     14\u001b[0m obj \u001b[38;5;241m=\u001b[39m Arithmetic(\u001b[38;5;241m2\u001b[39m,\u001b[38;5;241m3\u001b[39m)\n",
      "\u001b[1;31mTypeError\u001b[0m: Arithmetic.__init__() missing 2 required positional arguments: 'a' and 'b'"
     ]
    }
   ],
   "source": [
    "# constructor overloading is also not possible in python\n",
    "# multiple contructors, then last contructor will be considered\n",
    "\n",
    "class Arithmetic:\n",
    "    def __init__(self):\n",
    "        print('there is no arg')\n",
    "    def __init__(self,a):\n",
    "        print('passing 1 arg')\n",
    "    def __init__(self,a,b):\n",
    "        print('2 args')\n",
    "\n",
    "obj = Arithmetic()\n",
    "obj = Arithmetic(10)\n",
    "obj = Arithmetic(2,3)"
   ]
  },
  {
   "cell_type": "code",
   "execution_count": 6,
   "metadata": {},
   "outputs": [],
   "source": [
    "# operator overloading is supported, but using magic method   ****** important *****"
   ]
  },
  {
   "cell_type": "code",
   "execution_count": null,
   "metadata": {},
   "outputs": [],
   "source": []
  },
  {
   "cell_type": "code",
   "execution_count": 7,
   "metadata": {},
   "outputs": [
    {
     "data": {
      "text/plain": [
       "'\\nYou\\'re right that Python does not support traditional **method overloading** like Java or C++, where you can define multiple methods with the same name but different parameter lists. However, Python provides an alternative using **default arguments, `*args`, `**kwargs`, or the `@singledispatch` decorator**.\\n\\nThe solution you’re thinking of that starts with \"i\" is likely **\"inspection\"** (which refers to checking arguments dynamically) or **\"if-else\" logic inside the method**.\\n\\n### Solutions for Method Overloading in Python:\\n1. **Using Default Arguments:**\\n   ```python\\n   class Example:\\n       def greet(self, name=\"Guest\"):\\n           print(f\"Hello, {name}!\")\\n\\n   obj = Example()\\n   obj.greet()         # Hello, Guest!\\n   obj.greet(\"Alice\")  # Hello, Alice!\\n   ```\\n   \\n2. **Using `*args` and `**kwargs`:**\\n   ```python\\n   class Example:\\n       def greet(self, *args):\\n           if len(args) == 1:\\n               print(f\"Hello, {args[0]}!\")\\n           elif len(args) == 2:\\n               print(f\"Hello, {args[0]} and {args[1]}!\")\\n           else:\\n               print(\"Hello, everyone!\")\\n\\n   obj = Example()\\n   obj.greet(\"Alice\")           # Hello, Alice!\\n   obj.greet(\"Alice\", \"Bob\")    # Hello, Alice and Bob!\\n   obj.greet()                  # Hello, everyone!\\n   ```\\n\\n3. **Using `functools.singledispatch` (Best for Function Overloading):**\\n   ```python\\n   from functools import singledispatch\\n\\n   @singledispatch\\n   def add(x, y):\\n       raise NotImplementedError(\"Unsupported type\")\\n\\n   @add.register\\n   def _(x: int, y: int):\\n       return x + y\\n\\n   @add.register\\n   def _(x: str, y: str):\\n       return x + \" \" + y\\n\\n   print(add(5, 10))        # 15\\n   print(add(\"Hello\", \"World\"))  # Hello World\\n   ```\\n\\n4. **Using Class Method Overloading (By Checking `isinstance()`)**\\n   ```python\\n   class Example:\\n       def add(self, a, b=None):\\n           if isinstance(a, int) and isinstance(b, int):\\n               return a + b\\n           elif isinstance(a, str) and isinstance(b, str):\\n               return a + \" \" + b\\n           elif b is None:\\n               return a\\n           else:\\n               raise ValueError(\"Invalid arguments\")\\n\\n   obj = Example()\\n   print(obj.add(5, 10))         # 15\\n   print(obj.add(\"Hello\", \"World\"))  # Hello World\\n   print(obj.add(5))             # 5\\n   ```\\n\\nAmong these, `singledispatch` is the closest to method overloading in Python, but it\\'s primarily for functions. For class methods, **default arguments or `*args/**kwargs`** are the most common approach.\\n\\nLet me know if you need more clarification! 🚀\\'\\n'"
      ]
     },
     "execution_count": 7,
     "metadata": {},
     "output_type": "execute_result"
    }
   ],
   "source": [
    "'''\n",
    "You're right that Python does not support traditional **method overloading** like Java or C++, where you can define multiple methods with the same name but different parameter lists. However, Python provides an alternative using **default arguments, `*args`, `**kwargs`, or the `@singledispatch` decorator**.\n",
    "\n",
    "The solution you’re thinking of that starts with \"i\" is likely **\"inspection\"** (which refers to checking arguments dynamically) or **\"if-else\" logic inside the method**.\n",
    "\n",
    "### Solutions for Method Overloading in Python:\n",
    "1. **Using Default Arguments:**\n",
    "   ```python\n",
    "   class Example:\n",
    "       def greet(self, name=\"Guest\"):\n",
    "           print(f\"Hello, {name}!\")\n",
    "\n",
    "   obj = Example()\n",
    "   obj.greet()         # Hello, Guest!\n",
    "   obj.greet(\"Alice\")  # Hello, Alice!\n",
    "   ```\n",
    "   \n",
    "2. **Using `*args` and `**kwargs`:**\n",
    "   ```python\n",
    "   class Example:\n",
    "       def greet(self, *args):\n",
    "           if len(args) == 1:\n",
    "               print(f\"Hello, {args[0]}!\")\n",
    "           elif len(args) == 2:\n",
    "               print(f\"Hello, {args[0]} and {args[1]}!\")\n",
    "           else:\n",
    "               print(\"Hello, everyone!\")\n",
    "\n",
    "   obj = Example()\n",
    "   obj.greet(\"Alice\")           # Hello, Alice!\n",
    "   obj.greet(\"Alice\", \"Bob\")    # Hello, Alice and Bob!\n",
    "   obj.greet()                  # Hello, everyone!\n",
    "   ```\n",
    "\n",
    "3. **Using `functools.singledispatch` (Best for Function Overloading):**\n",
    "   ```python\n",
    "   from functools import singledispatch\n",
    "\n",
    "   @singledispatch\n",
    "   def add(x, y):\n",
    "       raise NotImplementedError(\"Unsupported type\")\n",
    "\n",
    "   @add.register\n",
    "   def _(x: int, y: int):\n",
    "       return x + y\n",
    "\n",
    "   @add.register\n",
    "   def _(x: str, y: str):\n",
    "       return x + \" \" + y\n",
    "\n",
    "   print(add(5, 10))        # 15\n",
    "   print(add(\"Hello\", \"World\"))  # Hello World\n",
    "   ```\n",
    "\n",
    "4. **Using Class Method Overloading (By Checking `isinstance()`)**\n",
    "   ```python\n",
    "   class Example:\n",
    "       def add(self, a, b=None):\n",
    "           if isinstance(a, int) and isinstance(b, int):\n",
    "               return a + b\n",
    "           elif isinstance(a, str) and isinstance(b, str):\n",
    "               return a + \" \" + b\n",
    "           elif b is None:\n",
    "               return a\n",
    "           else:\n",
    "               raise ValueError(\"Invalid arguments\")\n",
    "\n",
    "   obj = Example()\n",
    "   print(obj.add(5, 10))         # 15\n",
    "   print(obj.add(\"Hello\", \"World\"))  # Hello World\n",
    "   print(obj.add(5))             # 5\n",
    "   ```\n",
    "\n",
    "Among these, `singledispatch` is the closest to method overloading in Python, but it's primarily for functions. For class methods, **default arguments or `*args/**kwargs`** are the most common approach.\n",
    "\n",
    "Let me know if you need more clarification! 🚀'\n",
    "'''"
   ]
  },
  {
   "cell_type": "code",
   "execution_count": null,
   "metadata": {},
   "outputs": [],
   "source": [
    "'''\n",
    "### **What is an Interface?**\n",
    "An **interface** is a contract that defines a set of methods that a class **must implement**, but it does **not** provide the implementation itself. \n",
    "\n",
    "In **Python**, interfaces are usually implemented using **abstract base classes (ABCs)** from the `abc` module.\n",
    "\n",
    "---\n",
    "\n",
    "### **Why Use Interfaces?**\n",
    "1. **Ensures Consistency** – All classes implementing the interface follow the same method structure.\n",
    "2. **Encourages Polymorphism** – Allows writing flexible and reusable code.\n",
    "3. **Forces Implementation** – Prevents incomplete class definitions.\n",
    "\n",
    "---\n",
    "\n",
    "### **How to Implement an Interface in Python?**\n",
    "Since Python doesn’t have built-in support for interfaces (like Java or C#), we use **abstract base classes (ABCs)**.\n",
    "\n",
    "#### **Example of an Interface in Python**\n",
    "```python\n",
    "from abc import ABC, abstractmethod\n",
    "\n",
    "# Defining an interface using ABC\n",
    "class Animal(ABC):\n",
    "    @abstractmethod\n",
    "    def make_sound(self):\n",
    "        pass  # No implementation, only the method signature\n",
    "\n",
    "# Concrete classes implementing the interface\n",
    "class Dog(Animal):\n",
    "    def make_sound(self):\n",
    "        return \"Bark!\"\n",
    "\n",
    "class Cat(Animal):\n",
    "    def make_sound(self):\n",
    "        return \"Meow!\"\n",
    "\n",
    "# Creating instances\n",
    "dog = Dog()\n",
    "cat = Cat()\n",
    "\n",
    "print(dog.make_sound())  # Output: Bark!\n",
    "print(cat.make_sound())  # Output: Meow!\n",
    "```\n",
    "**Explanation:**\n",
    "- The `Animal` class is an **interface** (abstract class).\n",
    "- It defines a **mandatory method `make_sound()`** that all subclasses **must** implement.\n",
    "- If a subclass does **not** implement `make_sound()`, Python will raise an error.\n",
    "\n",
    "---\n",
    "\n",
    "### **Key Points About Interfaces in Python**\n",
    "1. **Defined using `ABC` (Abstract Base Class) and `@abstractmethod`.**\n",
    "2. **Cannot instantiate an abstract class directly.**\n",
    "3. **A class must implement all abstract methods to be instantiated.**\n",
    "4. **Encourages a structured design pattern.**\n",
    "\n",
    "Would you like a real-world example, like a payment system or database connection interface? 🚀\n",
    "'''"
   ]
  },
  {
   "cell_type": "code",
   "execution_count": null,
   "metadata": {},
   "outputs": [],
   "source": []
  },
  {
   "cell_type": "code",
   "execution_count": null,
   "metadata": {},
   "outputs": [],
   "source": []
  },
  {
   "cell_type": "code",
   "execution_count": null,
   "metadata": {},
   "outputs": [
    {
     "name": "stdout",
     "output_type": "stream",
     "text": [
      "home loan roi = 6%\n",
      "home loan rate of interest = 7.5%\n",
      "car loan rate of interest = 8%\n"
     ]
    }
   ],
   "source": [
    "# method overriding\n",
    "class RBI:\n",
    "    def homeloan_roi(self):\n",
    "        print('home loan rate of interest = 7.5%')\n",
    "    def carLoan(self):\n",
    "        print('car loan rate of interest = 8%')\n",
    "\n",
    "class SBI(RBI):\n",
    "    def homeloan_roi(self):\n",
    "        print('home loan roi = 6%')\n",
    "        super().homeloan_roi()    # super method\n",
    "\n",
    "obj = SBI()\n",
    "obj.homeloan_roi()\n",
    "obj.carLoan()"
   ]
  },
  {
   "cell_type": "code",
   "execution_count": null,
   "metadata": {},
   "outputs": [
    {
     "name": "stdout",
     "output_type": "stream",
     "text": [
      "Child:= i will be late bleh\n",
      "Father:= i am already at breakfast table\n"
     ]
    }
   ],
   "source": [
    "# constructor overriding\n",
    "class Father:\n",
    "    def __init__(self):\n",
    "        print('Father:= i am already at breakfast table')\n",
    "\n",
    "class Child(Father):\n",
    "    def __init__(self):\n",
    "        # using super() to call parent class constructor \n",
    "        print('Child:= i will be late bleh')\n",
    "        super().__init__()\n",
    "\n",
    "ob = Child()"
   ]
  },
  {
   "cell_type": "code",
   "execution_count": null,
   "metadata": {},
   "outputs": [],
   "source": []
  }
 ],
 "metadata": {
  "kernelspec": {
   "display_name": "base",
   "language": "python",
   "name": "python3"
  },
  "language_info": {
   "codemirror_mode": {
    "name": "ipython",
    "version": 3
   },
   "file_extension": ".py",
   "mimetype": "text/x-python",
   "name": "python",
   "nbconvert_exporter": "python",
   "pygments_lexer": "ipython3",
   "version": "3.12.4"
  }
 },
 "nbformat": 4,
 "nbformat_minor": 2
}
