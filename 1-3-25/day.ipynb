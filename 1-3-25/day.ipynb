{
 "cells": [
  {
   "cell_type": "markdown",
   "metadata": {},
   "source": [
    "What is abstract ? <br>\n",
    "=> objects ke andar multiple function bana sakte hai without ....<br>\n",
    "\n",
    "class Ex<br>\n",
    "{<br>\n",
    "&nbsp;     void msg() = 0;   is a do nothing function, func with no body<br>\n",
    "&nbsp;     void msg1()<br>\n",
    "&nbsp;     {<br>\n",
    "&nbsp;         print('hello students')<br>\n",
    "&nbsp;     }<br>\n",
    "}<br>\n",
    "int main()<br>\n",
    "{<br>\n",
    "&nbsp;     Ex e1;   # hence you cannot create object of a class which has do nothing function<br>\n",
    "&nbsp;     e1.msg()   this will give nothing (see above statement)<br>\n",
    "}\n",
    "\n",
    "so now how will you access msg1() function? we can inherit that class<br>\n",
    "but that do-nothing function will also be inherited. so solution is to overwrite it<br>\n",
    "do-nothing function = aka pure virtual function = aka abstract function<br>\n",
    "\n",
    "class Ex<br>\n",
    "{<br>\n",
    "&nbsp;     void msg() = 0;   is a do nothing function, func with no body     # virtual void msg()=0;<br>\n",
    "&nbsp;     void msg1()<br>\n",
    "&nbsp;     {<br>\n",
    "&nbsp;         print('hello students')<br>\n",
    "&nbsp;     }<br>\n",
    "}<br>\n",
    "class Ex1(Ex)<br>\n",
    "{<br>\n",
    "&nbsp;     void msg()<br>\n",
    "&nbsp;     {<br>\n",
    "&nbsp;         print('normal method')<br>\n",
    "&nbsp;     } <br>\n",
    "}<br>\n",
    "int main()<br>\n",
    "{<br>\n",
    "&nbsp;     Ex1 e1;   # object of child class<br>\n",
    "&nbsp;     e1.msg()   this will give nothing (see above statement)<br>\n",
    "}<br>\n",
    "\n",
    "\n",
    "abstract method forces child class to do overwrite\n",
    "parent class ka data jisme abstractmethod hai, toh we will have to do inheritance. then child class will have give body toh the method, child class will have to overwrite "
   ]
  },
  {
   "cell_type": "markdown",
   "metadata": {},
   "source": []
  },
  {
   "cell_type": "code",
   "execution_count": 2,
   "metadata": {},
   "outputs": [],
   "source": [
    "# abstract class in java(abstract keyword), cpp(), python(abc module)"
   ]
  },
  {
   "cell_type": "code",
   "execution_count": null,
   "metadata": {},
   "outputs": [],
   "source": []
  },
  {
   "cell_type": "code",
   "execution_count": null,
   "metadata": {},
   "outputs": [],
   "source": []
  },
  {
   "cell_type": "code",
   "execution_count": 7,
   "metadata": {},
   "outputs": [
    {
     "name": "stdout",
     "output_type": "stream",
     "text": [
      "this is public method by default\n",
      "50\n",
      "None\n"
     ]
    }
   ],
   "source": [
    "class MyClass:\n",
    "    def msg(self):\n",
    "        x = 50\n",
    "        print('this is public method by default')\n",
    "        print(x)\n",
    "ob = MyClass()\n",
    "print(ob.msg())"
   ]
  },
  {
   "cell_type": "code",
   "execution_count": null,
   "metadata": {},
   "outputs": [
    {
     "name": "stdout",
     "output_type": "stream",
     "text": [
      "public attribute\n",
      "public method\n"
     ]
    }
   ],
   "source": [
    "# default, ig public access specifier:\n",
    "class MyClass:\n",
    "    def __init__(self):\n",
    "        self.name = 'public attribute'\n",
    "    def display(self):\n",
    "        print('public method')\n",
    "obj = MyClass()\n",
    "print(obj.name)\n",
    "obj.display()"
   ]
  },
  {
   "cell_type": "code",
   "execution_count": null,
   "metadata": {},
   "outputs": [
    {
     "name": "stdout",
     "output_type": "stream",
     "text": [
      "public attribute\n",
      "public method\n"
     ]
    }
   ],
   "source": [
    "# protected access specifier:\n",
    "# indicated by a single _ before name\n",
    "# suggested that attribute/method should not be access directly, but can still be acessed if needed\n",
    "# can be accessed only inside the class and its child class. (strict in java)\n",
    "# but in python, thsi is not that strict so it can be accessed\n",
    "\n",
    "class MyClass:\n",
    "    def __init__(self):\n",
    "        self._name = 'public attribute'   # (now the name variable is protected)\n",
    "    def _display(self):          # now the display method is protected\n",
    "        print('public method')\n",
    "obj = MyClass()\n",
    "# ### accessible but not protected\n",
    "print(obj._name)\n",
    "obj._display()"
   ]
  },
  {
   "cell_type": "code",
   "execution_count": null,
   "metadata": {},
   "outputs": [
    {
     "name": "stdout",
     "output_type": "stream",
     "text": [
      "public attribute\n",
      "public method\n"
     ]
    }
   ],
   "source": [
    "# private access specifier:\n",
    "# indicated by double __ before the name\n",
    "# python performs, name mangling, making it difficult to access from outside the class\n",
    "class MyClass:\n",
    "    def __init__(self):\n",
    "        self.__name = 'public attribute'   # (now the name variable is private)\n",
    "    def __display(self):          # now the display method is private\n",
    "        print('public method')\n",
    "\n",
    "obj = MyClass()\n",
    "# print(obj.__name)     # AttributeError: 'MyClass' object has no attribute '__name'\n",
    "\n",
    "# this is also accessible but not recommended\n",
    "print(obj._MyClass__name)     # do this to access\n",
    "obj._MyClass__display()"
   ]
  },
  {
   "cell_type": "code",
   "execution_count": null,
   "metadata": {},
   "outputs": [],
   "source": []
  },
  {
   "cell_type": "code",
   "execution_count": null,
   "metadata": {},
   "outputs": [
    {
     "name": "stdout",
     "output_type": "stream",
     "text": [
      "<generator object myGen at 0x000001C2402680F0>\n",
      "<generator object myGen at 0x000001C2402680F0>\n",
      "1\n",
      "2\n"
     ]
    }
   ],
   "source": [
    "# GENERATOR: can return multiple values\n",
    "def myGen():\n",
    "    yield 1\n",
    "    yield 2\n",
    "    yield 3\n",
    "\n",
    "print(myGen())   # <generator object myGen at 0x000001C240269590>\n",
    "x = myGen()   # <generator object myGen at 0x000001C240269590>\n",
    "print(x)\n",
    "\n",
    "# solution\n",
    "print(next(x))\n",
    "print(next(x))\n",
    "print(next(x))"
   ]
  },
  {
   "cell_type": "code",
   "execution_count": 3,
   "metadata": {},
   "outputs": [
    {
     "name": "stdout",
     "output_type": "stream",
     "text": [
      "1\n",
      "2\n",
      "3\n"
     ]
    }
   ],
   "source": [
    "# looping in generator\n",
    "def myGen():\n",
    "    yield 1\n",
    "    yield 2\n",
    "    yield 3\n",
    "\n",
    "# solution for when u dont know no.of return values\n",
    "for value in myGen():\n",
    "    print(value)"
   ]
  },
  {
   "cell_type": "code",
   "execution_count": null,
   "metadata": {},
   "outputs": [
    {
     "name": "stdout",
     "output_type": "stream",
     "text": [
      "1\n",
      "4\n",
      "9\n",
      "16\n",
      "25\n"
     ]
    }
   ],
   "source": [
    "# generator expressions\n",
    "gen = (x**2 for x in range(1,6))\n",
    "# print(next(gen))\n",
    "# print(next(gen))\n",
    "# print(next(gen))\n",
    "# print(next(gen))\n",
    "# print(next(gen))\n",
    "#    * OR * \n",
    "for value in gen:\n",
    "    print(value)"
   ]
  },
  {
   "cell_type": "code",
   "execution_count": null,
   "metadata": {},
   "outputs": [
    {
     "name": "stdout",
     "output_type": "stream",
     "text": [
      "33\n",
      "15\n",
      "13\n",
      "21\n"
     ]
    }
   ],
   "source": [
    "# given an array of integer x, find the maximum sum of alternate subsequence\n",
    "\n",
    "\n",
    "# two sums, s1 s2. s3 iwll be max(s1,s2)\n",
    "def max_alternate_sum(x):\n",
    "    if not x:\n",
    "        return 0\n",
    "    if len(x) == 1:\n",
    "        return x[0]\n",
    "\n",
    "    # Initialize two variables to store maximum sum including or excluding the previous element\n",
    "    incl = x[0]  # Maximum sum including the first element\n",
    "    excl = 0      # Maximum sum excluding the first element\n",
    "\n",
    "    for i in range(1, len(x)):\n",
    "        new_excl = max(incl, excl)\n",
    "        # Update incl to include the current element\n",
    "        incl = excl + x[i]\n",
    "        # Update excl to the maximum of previous incl and excl\n",
    "        excl = new_excl\n",
    "    # Maximum of incl and excl will be the answer\n",
    "    return max(incl, excl)\n",
    "\n",
    "# Test cases\n",
    "x1 = [5, 3, 8, 9, 20]         # Expected: 33 (5 + 8 + 20)\n",
    "x2 = [3, 2, 5, 10, 7]         # Expected: 15 (3 + 10 + 2)\n",
    "x3 = [3, 2, 7, 10]            # Expected: 13 (3 + 10)\n",
    "x4 = [3, 2, 5, 10, 7, 8]      # Expected: 21 (3 + 10 + 8)\n",
    "\n",
    "print(max_alternate_sum(x1))\n",
    "print(max_alternate_sum(x2))\n",
    "print(max_alternate_sum(x3))\n",
    "print(max_alternate_sum(x4))\n",
    "   \n",
    "# x = [5,3,8,9,20]   # u can do alternate, not subsequence. like 5+8+20   or 20 + 5  not adjacent thos\n",
    "# x = [3,2,5,10,7]  # 15\n",
    "# x = [3,2,7,10]   # 13\n",
    "# x = [3,2,5,10,7,8]  # 21"
   ]
  },
  {
   "cell_type": "markdown",
   "metadata": {},
   "source": []
  },
  {
   "cell_type": "markdown",
   "metadata": {},
   "source": []
  },
  {
   "cell_type": "markdown",
   "metadata": {},
   "source": []
  },
  {
   "cell_type": "code",
   "execution_count": 7,
   "metadata": {},
   "outputs": [
    {
     "name": "stdout",
     "output_type": "stream",
     "text": [
      "81   125\n"
     ]
    }
   ],
   "source": [
    "# LAMBDA EXPRESSION\n",
    "'''\n",
    "lambda eprs in python is an anonymous(nameless) function that can have, any no.of arguments but only one expression\n",
    "'''\n",
    "square = lambda x:x**2\n",
    "print(square(9), end='   ')\n",
    "\n",
    "\n",
    "cube = lambda y:y**3\n",
    "print(cube(5))"
   ]
  },
  {
   "cell_type": "code",
   "execution_count": 8,
   "metadata": {},
   "outputs": [
    {
     "name": "stdout",
     "output_type": "stream",
     "text": [
      "11\n"
     ]
    }
   ],
   "source": [
    "# lambda exp with multiple arguments\n",
    "add = lambda a,b:a+b\n",
    "print(add(5,6))"
   ]
  },
  {
   "cell_type": "code",
   "execution_count": 13,
   "metadata": {},
   "outputs": [
    {
     "name": "stdout",
     "output_type": "stream",
     "text": [
      "<function multiplication.<locals>.<lambda> at 0x00000252DC9DFBA0>\n",
      "10\n"
     ]
    }
   ],
   "source": [
    "def multiplication(n):\n",
    "    return lambda x:x*n\n",
    "print(multiplication(2))     #<function multiplication.<locals>.<lambda> at 0x00000252DC9DCCC0>\n",
    "\n",
    "ans = multiplication(2)   # x = 2\n",
    "print(ans(5))"
   ]
  }
 ],
 "metadata": {
  "kernelspec": {
   "display_name": "base",
   "language": "python",
   "name": "python3"
  },
  "language_info": {
   "codemirror_mode": {
    "name": "ipython",
    "version": 3
   },
   "file_extension": ".py",
   "mimetype": "text/x-python",
   "name": "python",
   "nbconvert_exporter": "python",
   "pygments_lexer": "ipython3",
   "version": "3.12.4"
  }
 },
 "nbformat": 4,
 "nbformat_minor": 2
}
