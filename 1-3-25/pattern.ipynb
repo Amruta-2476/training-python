{
 "cells": [
  {
   "cell_type": "code",
   "execution_count": 22,
   "metadata": {},
   "outputs": [
    {
     "name": "stdout",
     "output_type": "stream",
     "text": [
      "    1\n",
      "   12\n",
      "  123\n",
      " 1234\n",
      "12345\n"
     ]
    }
   ],
   "source": [
    "'''  \n",
    "        1         # 8 SPACES    => 5 +4 -1\n",
    "      1 2 1       # 6 SPACES    => 5 + 4 -2\n",
    "    1 2 3 2 1\n",
    "  1 2 3 4 3 2 1\n",
    "1 2 3 4 5 4 3 2 1\n",
    "  1 2 3 4 3 2 1\n",
    "    1 2 3 2 1\n",
    "      1 2 1\n",
    "        1\n",
    "'''\n",
    "\n",
    "for i in range(1,5+1):     # 3\n",
    "    print(' '*(5 - i), end='')\n",
    "    for j in range(1,i+1):   # 1 2 3\n",
    "        print(j, end='')\n",
    "    print()"
   ]
  },
  {
   "cell_type": "code",
   "execution_count": null,
   "metadata": {},
   "outputs": [
    {
     "name": "stdout",
     "output_type": "stream",
     "text": [
      "    1 0\n",
      "   1 2 1\n",
      "  1 2 3 2\n",
      " 1 2 3 4 3\n",
      "1 2 3 4 5 4\n"
     ]
    }
   ],
   "source": [
    "for i in range(1,5+1):     # 3\n",
    "    print(' '*(5 - i), end='')\n",
    "    for j in range(1,i+1):   # 1 2 3\n",
    "        print(j, end=' ')\n",
    "    print(j-1, end='')\n",
    "    print()"
   ]
  },
  {
   "cell_type": "code",
   "execution_count": null,
   "metadata": {},
   "outputs": [
    {
     "name": "stdout",
     "output_type": "stream",
     "text": [
      "        1 \n",
      "      1 2 1 \n",
      "    1 2 3 2 1 \n",
      "  1 2 3 4 3 2 1 \n",
      "1 2 3 4 5 4 3 2 1 \n",
      "  1 2 3 4 3 2 1 \n",
      "    1 2 3 2 1 \n",
      "      1 2 1 \n",
      "        1 \n"
     ]
    }
   ],
   "source": [
    "n = 5  # Height of the pattern\n",
    "\n",
    "# Top half \n",
    "for i in range(1, n + 1):\n",
    "    print('  ' * (n - i), end='')  \n",
    "    for j in range(1, i + 1):\n",
    "        print(j, end=' ')\n",
    "    for j in range(i - 1, 0, -1):\n",
    "        print(j, end=' ')\n",
    "    print()\n",
    "\n",
    "# Bottom half \n",
    "for i in range(n - 1, 0, -1):\n",
    "    print('  ' * (n - i), end='')  \n",
    "    for j in range(1, i + 1):\n",
    "        print(j, end=' ')\n",
    "    for j in range(i - 1, 0, -1):\n",
    "        print(j, end=' ')\n",
    "    print()\n"
   ]
  }
 ],
 "metadata": {
  "kernelspec": {
   "display_name": "base",
   "language": "python",
   "name": "python3"
  },
  "language_info": {
   "codemirror_mode": {
    "name": "ipython",
    "version": 3
   },
   "file_extension": ".py",
   "mimetype": "text/x-python",
   "name": "python",
   "nbconvert_exporter": "python",
   "pygments_lexer": "ipython3",
   "version": "3.12.4"
  }
 },
 "nbformat": 4,
 "nbformat_minor": 2
}
