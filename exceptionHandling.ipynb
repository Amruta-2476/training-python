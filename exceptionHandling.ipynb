{
 "cells": [
  {
   "cell_type": "markdown",
   "metadata": {},
   "source": [
    "> 2 types of errors : syntax error and runtime error"
   ]
  },
  {
   "cell_type": "markdown",
   "metadata": {},
   "source": [
    "syntax error : developer handles it, happens during production/development time. <br>\n",
    "runtime error : happens on behalf of programmer, in runtime environment. the end-user shouldn't be shown the error. "
   ]
  },
  {
   "cell_type": "markdown",
   "metadata": {},
   "source": [
    "> runtime error is aka exception<br>\n",
    "> we can handle the runtime error\n",
    "> it makes sure that the normal flow of execution is not blocked"
   ]
  },
  {
   "cell_type": "markdown",
   "metadata": {},
   "source": [
    "> WHAT IS DIFFERENCE B/W ERROR AND EXCEPTION?<br>\n",
    "error is syntax error, u cannot handle it<br>\n",
    "exception is runtime error, we can handle it"
   ]
  },
  {
   "cell_type": "markdown",
   "metadata": {},
   "source": [
    "> user defined and pre-defined error"
   ]
  },
  {
   "cell_type": "markdown",
   "metadata": {},
   "source": [
    "> logging"
   ]
  },
  {
   "cell_type": "markdown",
   "metadata": {},
   "source": [
    "try: ........... <br>\n",
    "except: ......"
   ]
  },
  {
   "cell_type": "code",
   "execution_count": null,
   "metadata": {},
   "outputs": [
    {
     "name": "stdout",
     "output_type": "stream",
     "text": [
      "64\n"
     ]
    }
   ],
   "source": [
    "a = int(input())\n",
    "b = int(input())\n",
    "try:\n",
    "    print(a/b)\n",
    "except:\n",
    "    print(\"cannot divide by 0\")"
   ]
  },
  {
   "cell_type": "code",
   "execution_count": null,
   "metadata": {},
   "outputs": [
    {
     "name": "stdout",
     "output_type": "stream",
     "text": [
      "<class 'int'>\n",
      "35\n",
      "2.0\n"
     ]
    }
   ],
   "source": [
    "a = int(input())     # 70\n",
    "b = input()    #   '#'\n",
    "print(type(ord(b)))     # int\n",
    "print(ord(b))      # 35\n",
    "print(a/ord(b))    # 2.0"
   ]
  },
  {
   "cell_type": "code",
   "execution_count": null,
   "metadata": {},
   "outputs": [
    {
     "name": "stdout",
     "output_type": "stream",
     "text": [
      "cannot divide by 0:  division by zero\n"
     ]
    }
   ],
   "source": [
    "# multiple except block\n",
    "try:\n",
    "    a = int(input())\n",
    "    b = int(input())\n",
    "    print(a/b)\n",
    "except ZeroDivisionError as message:\n",
    "    print(\"cannot divide by 0: \",message)\n",
    "except ValueError as message:\n",
    "    print(\"Enter only int: \",message)"
   ]
  },
  {
   "cell_type": "code",
   "execution_count": 21,
   "metadata": {},
   "outputs": [
    {
     "name": "stdout",
     "output_type": "stream",
     "text": [
      "invalid literal for int() with base 10: '%'\n"
     ]
    }
   ],
   "source": [
    "# in single except block u can use multiple exception classes\n",
    "try:\n",
    "    a = int(input())\n",
    "    b = int(input())\n",
    "    print(a/b)\n",
    "except (ValueError, ZeroDivisionError) as message:     \n",
    "    print(message)"
   ]
  },
  {
   "cell_type": "code",
   "execution_count": 25,
   "metadata": {},
   "outputs": [
    {
     "name": "stdout",
     "output_type": "stream",
     "text": [
      "invalid literal for int() with base 10: 't'\n"
     ]
    }
   ],
   "source": [
    "# default except bloack\n",
    "try:\n",
    "    a = int(input())\n",
    "    b = int(input())\n",
    "    print(a/b)\n",
    "except (ValueError, ZeroDivisionError) as message:     \n",
    "    print(message)\n",
    "except:\n",
    "    print(\"This is default except block\")"
   ]
  },
  {
   "cell_type": "code",
   "execution_count": 26,
   "metadata": {},
   "outputs": [
    {
     "ename": "SyntaxError",
     "evalue": "default 'except:' must be last (2356172491.py, line 6)",
     "output_type": "error",
     "traceback": [
      "\u001b[1;36m  Cell \u001b[1;32mIn[26], line 6\u001b[1;36m\u001b[0m\n\u001b[1;33m    except:\u001b[0m\n\u001b[1;37m    ^\u001b[0m\n\u001b[1;31mSyntaxError\u001b[0m\u001b[1;31m:\u001b[0m default 'except:' must be last\n"
     ]
    }
   ],
   "source": [
    "# default except block\n",
    "try:\n",
    "    a = int(input())\n",
    "    b = int(input())\n",
    "    print(a/b)\n",
    "except:\n",
    "    print(\"This is default except block\")\n",
    "except (ValueError, ZeroDivisionError) as message:     \n",
    "    print(message)"
   ]
  },
  {
   "cell_type": "code",
   "execution_count": 31,
   "metadata": {},
   "outputs": [
    {
     "name": "stdout",
     "output_type": "stream",
     "text": [
      "1.125\n",
      "everything is ok\n"
     ]
    }
   ],
   "source": [
    "# else block\n",
    "try:\n",
    "    a = int(input())\n",
    "    b = int(input())\n",
    "    print(a/b)\n",
    "except (ValueError, ZeroDivisionError) as message:     \n",
    "    print(message)\n",
    "else:\n",
    "    print('everything is ok')"
   ]
  },
  {
   "cell_type": "code",
   "execution_count": 34,
   "metadata": {},
   "outputs": [
    {
     "name": "stdout",
     "output_type": "stream",
     "text": [
      "division by zero\n",
      "i will always be executed\n"
     ]
    }
   ],
   "source": [
    "# finally block ( NO NEED FOR THIS WAISE )\n",
    "try:\n",
    "    a = int(input())\n",
    "    b = int(input())\n",
    "    print(a/b)\n",
    "except (ValueError, ZeroDivisionError) as message:     \n",
    "    print(message)\n",
    "# finally:\n",
    "#     print('i will always be executed')\n",
    "print('i will always be executed')"
   ]
  },
  {
   "cell_type": "markdown",
   "metadata": {},
   "source": [
    "> difference betweeen try, except and finally"
   ]
  },
  {
   "cell_type": "markdown",
   "metadata": {},
   "source": [
    "> qustions on public static void main etc"
   ]
  },
  {
   "cell_type": "code",
   "execution_count": 37,
   "metadata": {},
   "outputs": [
    {
     "name": "stdout",
     "output_type": "stream",
     "text": [
      "invalid literal for int() with base 10: 'y'\n"
     ]
    }
   ],
   "source": [
    "try:\n",
    "    a = int(input())\n",
    "    b = int(input())\n",
    "    try:\n",
    "        print(a/b)\n",
    "    except ZeroDivisionError as msg:\n",
    "        print(msg)\n",
    "except ValueError as message:     \n",
    "    print(message)"
   ]
  },
  {
   "cell_type": "code",
   "execution_count": null,
   "metadata": {},
   "outputs": [],
   "source": []
  }
 ],
 "metadata": {
  "kernelspec": {
   "display_name": "base",
   "language": "python",
   "name": "python3"
  },
  "language_info": {
   "codemirror_mode": {
    "name": "ipython",
    "version": 3
   },
   "file_extension": ".py",
   "mimetype": "text/x-python",
   "name": "python",
   "nbconvert_exporter": "python",
   "pygments_lexer": "ipython3",
   "version": "3.12.4"
  }
 },
 "nbformat": 4,
 "nbformat_minor": 2
}
