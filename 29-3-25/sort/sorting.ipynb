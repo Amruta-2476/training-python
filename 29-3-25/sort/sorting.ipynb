{
 "cells": [
  {
   "cell_type": "markdown",
   "metadata": {},
   "source": [
    "##### BUBBLE SORT"
   ]
  },
  {
   "cell_type": "code",
   "execution_count": 1,
   "metadata": {},
   "outputs": [
    {
     "name": "stdout",
     "output_type": "stream",
     "text": []
    }
   ],
   "source": [
    "def bubble_sort(l):\n",
    "    n = len(l)\n",
    "    for i in range(n-1):\n",
    "        for j in range(n-i-1):\n",
    "            if l[j] > l[j+1]:\n",
    "                l[j], l[j+1] = l[j+1], l[j]\n",
    "\n",
    "li = eval(input())    # \" [23,41,25,54,18,14] \"\n",
    "print(li, type(li))   # [23, 41, 25, 54, 18, 14] <class 'list'>\n",
    "\n",
    "bubble_sort(li)\n",
    "print('sorted list: ',li)"
   ]
  },
  {
   "cell_type": "code",
   "execution_count": 2,
   "metadata": {},
   "outputs": [
    {
     "name": "stdout",
     "output_type": "stream",
     "text": []
    }
   ],
   "source": [
    "'''\n",
    "bubble sort using recursion\n",
    "'''\n",
    "def recursive_bubble_sort(l,n=None):\n",
    "    if n is None:\n",
    "        n = len(l)\n",
    "    if n == 1:\n",
    "        return \n",
    "    for j in range(n-1):\n",
    "        if l[j] > l[j+1]:\n",
    "            l[j], l[j+1] = l[j+1], l[j]\n",
    "    recursive_bubble_sort(l,n-1)\n",
    "\n",
    "li = eval(input())    \n",
    "print(li, type(li))   \n",
    "recursive_bubble_sort(li)\n",
    "print('sorted list: ',li)"
   ]
  },
  {
   "cell_type": "markdown",
   "metadata": {},
   "source": [
    "--------------"
   ]
  },
  {
   "cell_type": "markdown",
   "metadata": {},
   "source": [
    "---------------------------------"
   ]
  },
  {
   "cell_type": "markdown",
   "metadata": {},
   "source": [
    "--------------------------------"
   ]
  },
  {
   "cell_type": "markdown",
   "metadata": {},
   "source": [
    "##### INSERTION SORT"
   ]
  },
  {
   "cell_type": "code",
   "execution_count": 3,
   "metadata": {},
   "outputs": [
    {
     "name": "stdout",
     "output_type": "stream",
     "text": []
    }
   ],
   "source": [
    "def insertion_sort(l):\n",
    "    for i in range(1,len(l)):\n",
    "        k = l[i]\n",
    "        j = i-1\n",
    "        while j>=0 and l[j]>k:\n",
    "            l[j+1] = l[j]\n",
    "            j = j-1\n",
    "        l[j+1] = k\n",
    "\n",
    "li = [23,41,25,54,18,14]\n",
    "insertion_sort(li)\n",
    "print('sorted list: ',li)"
   ]
  },
  {
   "cell_type": "code",
   "execution_count": 4,
   "metadata": {},
   "outputs": [
    {
     "name": "stdout",
     "output_type": "stream",
     "text": []
    }
   ],
   "source": [
    "'''\n",
    "using recursion \n",
    "'''\n",
    "def recursive_insertion_sort(arr, n):\n",
    "    # Base case\n",
    "    if n <= 1:\n",
    "        return\n",
    "\n",
    "    # Sort first n-1 elements recursively\n",
    "    recursive_insertion_sort(arr, n-1)\n",
    "\n",
    "    # Insert last element at its correct position\n",
    "    last = arr[n-1]\n",
    "    j = n-2\n",
    "\n",
    "    # Move elements that are greater than last\n",
    "    # to one position ahead of their current position\n",
    "    while j >= 0 and arr[j] > last:\n",
    "        arr[j+1] = arr[j]\n",
    "        j -= 1\n",
    "    \n",
    "    arr[j+1] = last\n",
    "\n",
    "# Test the recursive implementation\n",
    "li2 = [23, 41, 25, 54, 18, 14]\n",
    "recursive_insertion_sort(li2, len(li2))\n",
    "print('sorted list (recursive): ', li2)"
   ]
  },
  {
   "cell_type": "markdown",
   "metadata": {},
   "source": [
    "-----------"
   ]
  },
  {
   "cell_type": "markdown",
   "metadata": {},
   "source": [
    "---------------------"
   ]
  },
  {
   "cell_type": "markdown",
   "metadata": {},
   "source": [
    "------------------"
   ]
  },
  {
   "cell_type": "markdown",
   "metadata": {},
   "source": [
    "##### SELECTION SORT"
   ]
  },
  {
   "cell_type": "code",
   "execution_count": 6,
   "metadata": {},
   "outputs": [
    {
     "name": "stdout",
     "output_type": "stream",
     "text": []
    }
   ],
   "source": [
    "def selection_sort(arr):\n",
    "    n = len(arr)\n",
    "    \n",
    "    for i in range(n):\n",
    "        min_idx = i\n",
    "        for j in range(i+1, n):\n",
    "            if arr[j] < arr[min_idx]:\n",
    "                min_idx = j\n",
    "        # Swap \n",
    "        arr[i], arr[min_idx] = arr[min_idx], arr[i]\n",
    "li = [23, 41, 25, 54, 18, 14]\n",
    "selection_sort(li)\n",
    "print(\"Sorted array:\", li)\n",
    "        \n",
    "\n",
    "\n",
    "# selection sort in descending order\n",
    "def desc_selection(li):\n",
    "    n = len(li)\n",
    "    for i in range(n):\n",
    "        max_index = i\n",
    "        for j in range(i+1,n):\n",
    "            if li[j] > li[max_index]:\n",
    "                max_index = j\n",
    "        # Swap \n",
    "        li[i], li[max_index] = li[max_index], li[i]\n",
    "li = [23, 41, 25, 54, 18, 14]\n",
    "desc_selection(li)\n",
    "print(\"Descending Sorted array:\", li)"
   ]
  },
  {
   "cell_type": "markdown",
   "metadata": {},
   "source": [
    "--------"
   ]
  },
  {
   "cell_type": "markdown",
   "metadata": {},
   "source": [
    "-------------"
   ]
  },
  {
   "cell_type": "markdown",
   "metadata": {},
   "source": [
    "------------------"
   ]
  },
  {
   "cell_type": "markdown",
   "metadata": {},
   "source": [
    "##### MERGE SORT"
   ]
  },
  {
   "cell_type": "code",
   "execution_count": 8,
   "metadata": {},
   "outputs": [
    {
     "name": "stdout",
     "output_type": "stream",
     "text": []
    }
   ],
   "source": [
    "def merge_sort(arr):\n",
    "    if len(arr) <= 1:\n",
    "        return arr\n",
    "    \n",
    "    mid = len(arr) // 2\n",
    "    left = arr[:mid]\n",
    "    right = arr[mid:]\n",
    "    \n",
    "    merge_sort(left)\n",
    "    merge_sort(right)\n",
    "    \n",
    "    i = j = k = 0\n",
    "    \n",
    "    while i < len(left) and j < len(right):\n",
    "        if left[i] <= right[j]:\n",
    "            arr[k] = left[i]\n",
    "            i += 1\n",
    "        else:\n",
    "            arr[k] = right[j]\n",
    "            j += 1\n",
    "        k += 1\n",
    "    \n",
    "    # for remaining elements\n",
    "    while i < len(left):\n",
    "        arr[k] = left[i]\n",
    "        i += 1\n",
    "        k += 1\n",
    "    \n",
    "    while j < len(right):\n",
    "        arr[k] = right[j]\n",
    "        j += 1\n",
    "        k += 1\n",
    "    \n",
    "    return arr\n",
    "\n",
    "li = [23, 41, 25, 54, 18, 14]\n",
    "merge_sort(li)\n",
    "print(\"Sorted array:\", li)"
   ]
  },
  {
   "cell_type": "markdown",
   "metadata": {},
   "source": []
  },
  {
   "cell_type": "markdown",
   "metadata": {},
   "source": [
    "### check how these happen"
   ]
  },
  {
   "cell_type": "code",
   "execution_count": 9,
   "metadata": {},
   "outputs": [
    {
     "name": "stdout",
     "output_type": "stream",
     "text": []
    }
   ],
   "source": [
    "a = [[0] * 3] * 3\n",
    "a[0][0] = 1\n",
    "print(a)"
   ]
  },
  {
   "cell_type": "code",
   "execution_count": 10,
   "metadata": {},
   "outputs": [
    {
     "name": "stdout",
     "output_type": "stream",
     "text": []
    }
   ],
   "source": [
    "x = 10\n",
    "\n",
    "def func():\n",
    "    global x\n",
    "    x = x+5\n",
    "    print(x)\n",
    "\n",
    "func()\n",
    "print(x)"
   ]
  },
  {
   "cell_type": "code",
   "execution_count": null,
   "metadata": {},
   "outputs": [
    {
     "name": "stdout",
     "output_type": "stream",
     "text": []
    }
   ],
   "source": [
    "a, *b, c = [1,2,3,4,5]\n",
    "print(b)\n",
    "'''\n",
    "unpacking operator (*) in Python\n",
    "In the line a, *b, c = [1,2,3,4,5], we're using extended unpacking where:\n",
    "\n",
    "a gets the first element (1)\n",
    "*b collects all middle elements into a list [2,3,4]\n",
    "c gets the last element (5)\n",
    "The * operator is called the \"unpacking\" or \"splat\" operator. When used in assignments:\n",
    "The * operator is called the \"unpacking\" or \"splat\" operator. When used in assignments:\n",
    "It collects multiple elements into a list\n",
    "Must be used with exactly one variable in the assignment\n",
    "'''"
   ]
  },
  {
   "cell_type": "code",
   "execution_count": null,
   "metadata": {},
   "outputs": [
    {
     "name": "stdout",
     "output_type": "stream",
     "text": []
    }
   ],
   "source": [
    "lst = [lambda x: x+i for i in range(3)]\n",
    "print(lst[0](0))\n",
    "'''\n",
    "First, we create a list of lambda functions using a list comprehension\n",
    "\n",
    "The loop runs for i in range(3) (i.e., 0, 1, 2)\n",
    "Each iteration creates a lambda function lambda x: x+i\n",
    "The tricky part is that the lambda functions don't capture the value of i at creation time - they capture the variable i itself\n",
    "By the time we call lst[0](0)0:\n",
    "The loop has completed\n",
    "i has reached its final value of 2\n",
    "All lambda functions in the list are referring to this same final value of i\n",
    "\n",
    "So when we call lst[0](0)0:\n",
    "We're calling the first lambda function with argument x=0\n",
    "The function returns x+i which is 0+2\n",
    "That's why it prints 2, not 0 as you might expect\n",
    "'''"
   ]
  },
  {
   "cell_type": "code",
   "execution_count": null,
   "metadata": {},
   "outputs": [
    {
     "name": "stdout",
     "output_type": "stream",
     "text": []
    }
   ],
   "source": [
    "def func(x, lst=[]):\n",
    "    lst.append(x)\n",
    "    return lst\n",
    "\n",
    "print(func(1))\n",
    "print(func(2, []))\n",
    "print(func(3))"
   ]
  },
  {
   "cell_type": "code",
   "execution_count": null,
   "metadata": {},
   "outputs": [],
   "source": []
  }
 ],
 "metadata": {
  "kernelspec": {
   "display_name": "base",
   "language": "python",
   "name": "python3"
  },
  "language_info": {
   "codemirror_mode": {
    "name": "ipython",
    "version": 3
   },
   "file_extension": ".py",
   "mimetype": "text/x-python",
   "name": "python",
   "nbconvert_exporter": "python",
   "pygments_lexer": "ipython3",
   "version": "3.12.4"
  }
 },
 "nbformat": 4,
 "nbformat_minor": 2
}
